{
 "cells": [
  {
   "cell_type": "markdown",
   "metadata": {},
   "source": [
    "# Social Link Prediction\n",
    "## April 12th, 2022\n",
    "### Overview: A series of functions are built to allow for predicting the most likely-to-occur links between two people amongst a group of people."
   ]
  },
  {
   "cell_type": "code",
   "execution_count": 3,
   "metadata": {},
   "outputs": [],
   "source": [
    "import numpy as np\n",
    "from numpy import linalg as nla\n",
    "from scipy import linalg as la\n",
    "from scipy.sparse import csgraph as csg"
   ]
  },
  {
   "cell_type": "markdown",
   "metadata": {},
   "source": [
    "### The following functions will be created:\n",
    "- index: calculates the index of a matrix\n",
    "- is_drazin: boolean function to determine whether a matrix is the Drazin inverse of another\n",
    "- drazin_inverse: calculates the drazin inverse of a matrix\n",
    "- laplacian: calculates the laplacian of a matrix\n",
    "- effective_resistance: calculates the effective resistance between nodes in a graph\n",
    "\n",
    "Note: The drazin inverse is a suitable alternative to the inverse of a matrix when the matrix is singular\n",
    "- "
   ]
  },
  {
   "cell_type": "code",
   "execution_count": 31,
   "metadata": {},
   "outputs": [],
   "source": [
    "def index(A, tol=1e-5):\n",
    "    \"\"\"Compute the index of the matrix A. The index of a matrix is the smallest nonnegative integer such that rank(A^(k+1)) = rank(A^k). \n",
    "\n",
    "    Parameters:\n",
    "        A ((n,n) ndarray): An nxn matrix.\n",
    "\n",
    "    Returns:\n",
    "        k (int): The index of A.\n",
    "    \"\"\"\n",
    "\n",
    "    # test for non-singularity\n",
    "    if not np.isclose(la.det(A), 0):\n",
    "        return 0\n",
    "    \n",
    "    #k cannot be >= len(A)\n",
    "    n = len(A)\n",
    "    k = 1\n",
    "    Ak = A.copy()\n",
    "    while k <= n:\n",
    "        #rank of A^k:\n",
    "        r1 = np.linalg.matrix_rank(Ak)\n",
    "        #rank of A^(k+1):\n",
    "        r2 = np.linalg.matrix_rank(np.dot(A,Ak))\n",
    "        \n",
    "        #return if ranks are the same\n",
    "        if r1 == r2:\n",
    "            return k\n",
    "        #otherwise iterate A^k and k\n",
    "        Ak = np.dot(A,Ak)\n",
    "        k += 1\n",
    "\n",
    "    return k"
   ]
  },
  {
   "cell_type": "code",
   "execution_count": 5,
   "metadata": {},
   "outputs": [],
   "source": [
    "def is_drazin(A, Ad, k):\n",
    "    \"\"\"Verify that a matrix Ad is the Drazin inverse of A.\n",
    "\n",
    "    Parameters:\n",
    "        A ((n,n) ndarray): An nxn matrix.\n",
    "        Ad ((n,n) ndarray): A candidate for the Drazin inverse of A.\n",
    "        k (int): The index of A.\n",
    "\n",
    "    Returns:\n",
    "        (bool) True of Ad is the Drazin inverse of A, False otherwise.\n",
    "    \"\"\"\n",
    "    # Ad is the Drazin inverse of A if and only if the following three conditions hold:\n",
    "    return np.allclose(A@Ad,Ad@A) and np.allclose(nla.matrix_power(A,k+1)@Ad,nla.matrix_power(A,k)) and np.allclose(Ad@A@Ad,Ad)"
   ]
  },
  {
   "cell_type": "markdown",
   "metadata": {},
   "source": [
    "### Displaying the above functions' behavior"
   ]
  },
  {
   "cell_type": "code",
   "execution_count": 7,
   "metadata": {},
   "outputs": [
    {
     "data": {
      "text/plain": [
       "True"
      ]
     },
     "execution_count": 7,
     "metadata": {},
     "output_type": "execute_result"
    }
   ],
   "source": [
    "A_ = np.array([\n",
    "    [1,3,0,0],\n",
    "    [0,1,3,0],\n",
    "    [0,0,1,3],\n",
    "    [0,0,0,0]\n",
    "])\n",
    "Ad_ = np.array([\n",
    "    [1,-3,9,81],\n",
    "    [0,1,-3,-18],\n",
    "    [0,0,1,3],\n",
    "    [0,0,0,0]\n",
    "])\n",
    "is_drazin(A_,Ad_,index(A_))"
   ]
  },
  {
   "cell_type": "code",
   "execution_count": 8,
   "metadata": {},
   "outputs": [
    {
     "data": {
      "text/plain": [
       "True"
      ]
     },
     "execution_count": 8,
     "metadata": {},
     "output_type": "execute_result"
    }
   ],
   "source": [
    "B_ = np.array([\n",
    "    [1,1,3],\n",
    "    [5,2,6],\n",
    "    [-2,-1,-3]\n",
    "])\n",
    "Bd_ = np.zeros((3,3))\n",
    "is_drazin(B_,Bd_,index(B_))"
   ]
  },
  {
   "cell_type": "markdown",
   "metadata": {},
   "source": [
    "## Creating a function to return the Drazin inverse of a matrix"
   ]
  },
  {
   "cell_type": "code",
   "execution_count": 9,
   "metadata": {},
   "outputs": [],
   "source": [
    "def drazin_inverse(A, tol=1e-4):\n",
    "    \"\"\"Compute the Drazin inverse of A.\n",
    "\n",
    "    Parameters:\n",
    "        A ((n,n) ndarray): An nxn matrix.\n",
    "\n",
    "    Returns:\n",
    "       ((n,n) ndarray) The Drazin inverse of A.\n",
    "    \"\"\"\n",
    "    #get shape of n\n",
    "    n = A.shape[0]\n",
    "    \n",
    "    #define f and g\n",
    "    f = lambda x: abs(x) > tol\n",
    "    g = lambda x: abs(x) <= tol\n",
    "    \n",
    "    #doing schur decomp\n",
    "    T1,Q1,k1 = la.schur(A,sort = f)\n",
    "    T2,Q2,k2 = la.schur(A,sort = g)\n",
    "    \n",
    "    #stacking on U, inverting\n",
    "    U = np.hstack((Q1[:,:k1],Q2[:,:n-k1]))\n",
    "    U_inv = la.inv(U)\n",
    "    \n",
    "    #find V, make Z a zero matrix\n",
    "    V = U_inv@A@U\n",
    "    Z = np.zeros((n,n))\n",
    "    \n",
    "    #if k isn't 0, set the first k rows and columns of M inverse to inverse of V, then same with Z to M_inv\n",
    "    if k1 != 0:\n",
    "        M_inv = la.inv(V[:k1,:k1])\n",
    "        Z[:k1,:k1] = M_inv\n",
    "    \n",
    "    #return product = Drazin inverse\n",
    "    return U@Z@U_inv"
   ]
  },
  {
   "cell_type": "code",
   "execution_count": 30,
   "metadata": {},
   "outputs": [
    {
     "data": {
      "text/plain": [
       "True"
      ]
     },
     "execution_count": 30,
     "metadata": {},
     "output_type": "execute_result"
    }
   ],
   "source": [
    "A__d = drazin_inverse(A_)\n",
    "is_drazin(A_,A__d,index(A_))"
   ]
  },
  {
   "cell_type": "markdown",
   "metadata": {},
   "source": [
    "### Helper function which calculates the Laplacian of a matrix"
   ]
  },
  {
   "cell_type": "code",
   "execution_count": 14,
   "metadata": {},
   "outputs": [],
   "source": [
    "def laplacian(A):\n",
    "    \"\"\"Compute the Laplacian matrix of the graph G that has adjacency matrix A.\n",
    "\n",
    "    Parameters:\n",
    "        A ((N,N) ndarray): The adjacency matrix of an undirected graph G.\n",
    "\n",
    "    Returns:\n",
    "        L ((N,N) ndarray): The Laplacian matrix of G.\n",
    "    \"\"\"\n",
    "    #initializing a matrix of A's shape\n",
    "    D = np.zeros((A.shape[0],A.shape[1]))\n",
    "    \n",
    "    #summing up all the entries in a row and making that sum the diagonal of D\n",
    "    j = 0\n",
    "    for row in A:\n",
    "        Sum = 0\n",
    "        for i in row:\n",
    "            Sum += i\n",
    "        D[j,j] = Sum\n",
    "        j += 1\n",
    "    \n",
    "    #calculating and returning L\n",
    "    L = D - A\n",
    "    return L"
   ]
  },
  {
   "cell_type": "markdown",
   "metadata": {},
   "source": [
    "## The following function calculates the effective resistance between nodes in a graph, which requires the Drazin inverse. This will be used to find likely-to-occur links between nodes. "
   ]
  },
  {
   "cell_type": "code",
   "execution_count": 16,
   "metadata": {},
   "outputs": [],
   "source": [
    "def effective_resistance(A):\n",
    "    \"\"\"Compute the effective resistance for each node in a graph.\n",
    "\n",
    "    Parameters:\n",
    "        A ((n,n) ndarray): The adjacency matrix of an undirected graph.\n",
    "\n",
    "    Returns:\n",
    "        ((n,n) ndarray) The matrix where the ijth entry is the effective\n",
    "        resistance from node i to node j.\n",
    "    \"\"\"\n",
    "    #get laplacian of adjacency\n",
    "    L = csg.laplacian(A)\n",
    "    \n",
    "    #init R to be same shape as A with all zeros\n",
    "    R = np.zeros((A.shape))\n",
    "    \n",
    "    #make nxn identity\n",
    "    n = len(A)\n",
    "    I = np.identity(n)\n",
    "    \n",
    "    \n",
    "    for j in range(len(A)):\n",
    "        #copy L so as not to alter the original\n",
    "        Lcopy = L.copy()\n",
    "        \n",
    "        #replace the jth row of L with the jth row of I\n",
    "        Lcopy[j] = I[j]\n",
    "        \n",
    "        #do Drazin\n",
    "        Lj = drazin_inverse(Lcopy)\n",
    "        \n",
    "        #assign jth row of R to the diagonal of Lj\n",
    "        R[j] = np.diag(Lj)\n",
    "        \n",
    "    #subtract identity so that resist to self is 0\n",
    "    R = R - np.identity(n)\n",
    "    return R"
   ]
  },
  {
   "cell_type": "markdown",
   "metadata": {},
   "source": [
    "### Display of effective resistance for different matrices"
   ]
  },
  {
   "cell_type": "code",
   "execution_count": 17,
   "metadata": {},
   "outputs": [],
   "source": [
    "A1 = np.array([\n",
    "    [0,1,0,0],\n",
    "    [1,0,1,0],\n",
    "    [0,1,0,1],\n",
    "    [0,0,1,0]\n",
    "])\n",
    "A2 = np.array([\n",
    "    [0,3],\n",
    "    [3,0]\n",
    "])\n",
    "A3 = np.array([\n",
    "    [0,1,1],\n",
    "    [1,0,1],\n",
    "    [1,1,0]\n",
    "])"
   ]
  },
  {
   "cell_type": "code",
   "execution_count": 18,
   "metadata": {},
   "outputs": [
    {
     "data": {
      "text/plain": [
       "array([[0., 1., 2., 3.],\n",
       "       [1., 0., 1., 2.],\n",
       "       [2., 1., 0., 1.],\n",
       "       [3., 2., 1., 0.]])"
      ]
     },
     "execution_count": 18,
     "metadata": {},
     "output_type": "execute_result"
    }
   ],
   "source": [
    "effective_resistance(A1)"
   ]
  },
  {
   "cell_type": "code",
   "execution_count": 14,
   "metadata": {},
   "outputs": [
    {
     "data": {
      "text/plain": [
       "array([[0.        , 0.33333333],\n",
       "       [0.33333333, 0.        ]])"
      ]
     },
     "execution_count": 14,
     "metadata": {},
     "output_type": "execute_result"
    }
   ],
   "source": [
    "effective_resistance(A2)"
   ]
  },
  {
   "cell_type": "code",
   "execution_count": 19,
   "metadata": {},
   "outputs": [
    {
     "data": {
      "text/plain": [
       "array([[0.        , 0.66666667, 0.66666667],\n",
       "       [0.66666667, 0.        , 0.66666667],\n",
       "       [0.66666667, 0.66666667, 0.        ]])"
      ]
     },
     "execution_count": 19,
     "metadata": {},
     "output_type": "execute_result"
    }
   ],
   "source": [
    "effective_resistance(A3)"
   ]
  },
  {
   "cell_type": "markdown",
   "metadata": {},
   "source": [
    "## The file social_network.csv contains strings of name pairs representing connections between two people.\n",
    "\n",
    "## Creation of the LinkPredictor class, which will predict which links are likely to next occur based off of effective resistance.\n",
    "- Constructor: Reads the social_network file, creates an adjacency matrix based off the pairing, and calculates the effective resistance matrix.\n",
    "- predict_link: predicts the next most-likely to be made link\n",
    "- add_link: adds a link between the given nodes, updates the adjacency and effective resistance matrices"
   ]
  },
  {
   "cell_type": "code",
   "execution_count": 23,
   "metadata": {},
   "outputs": [],
   "source": [
    "class LinkPredictor:\n",
    "    \"\"\"Predict links between nodes of a network.\"\"\"\n",
    "\n",
    "    def __init__(self, filename='social_network.csv'):\n",
    "        \"\"\"Create the effective resistance matrix by constructing\n",
    "        an adjacency matrix.\n",
    "\n",
    "        Parameters:\n",
    "            filename (str): The name of a file containing graph data.\n",
    "        \"\"\"\n",
    "        #reading file\n",
    "        with open('social_network.csv') as readfile:\n",
    "            ff = readfile.read().split('\\n')\n",
    "        for i in range(len(ff)):\n",
    "            ff[i] = ff[i].split(',')\n",
    "        ff = ff[:-1]\n",
    "        \n",
    "        #index_dict will map a name to an index; name_dict will map an index to a name\n",
    "        index_dict = dict()\n",
    "        name_dict  = dict()\n",
    "        \n",
    "        #init iter variable\n",
    "        i = 0\n",
    "        #for every name pair in the list of names\n",
    "        for pair in ff:\n",
    "            #if first name not already in keys, add to both dictionaries\n",
    "            if pair[0] not in index_dict.keys():\n",
    "                index_dict[pair[0]] = i\n",
    "                name_dict[i] = pair[0]\n",
    "                i += 1\n",
    "            #if second name not in both dictionaries, add to both dictionaries\n",
    "            if pair[1] not in index_dict.keys():\n",
    "                index_dict[pair[1]] = i\n",
    "                name_dict[i] = pair[1]\n",
    "                i += 1\n",
    "        \n",
    "        #creating adjacency matrix\n",
    "        A = np.zeros((len(index_dict),len(index_dict)))\n",
    "        for pair in ff:\n",
    "            #getting indices of names\n",
    "            ind1 = index_dict[pair[0]]\n",
    "            ind2 = index_dict[pair[1]]\n",
    "            \n",
    "            #connecting nodes\n",
    "            A[ind1,ind2] += 1\n",
    "            A[ind2,ind1] += 1\n",
    "        \n",
    "        #saving effective resistance matrix\n",
    "        self.R = effective_resistance(A)\n",
    "        \n",
    "        #saving the index, name dictionaries, name list, and adjacency matrix\n",
    "        self.names_list = ff\n",
    "        self.index_dict = index_dict\n",
    "        self.name_dict  = name_dict\n",
    "        self.A = A\n",
    "            \n",
    "    def predict_link(self, node=None):\n",
    "        \"\"\"Predict the next link, either for the whole graph or for a\n",
    "        particular node.\n",
    "\n",
    "        Parameters:\n",
    "            node (str): The name of a node in the network.\n",
    "\n",
    "        Returns:\n",
    "            node1, node2 (str): The names of the next nodes to be linked.\n",
    "                Returned if node is None.\n",
    "            node1 (str): The name of the next node to be linked to 'node'.\n",
    "                Returned if node is not None.\n",
    "\n",
    "        Raises:\n",
    "            ValueError: If node is not in the graph.\n",
    "        \"\"\"\n",
    "        #making all the effective resistances between nodes already connected to 999\n",
    "        R_mute = (self.A+np.identity(self.A.shape[0]))*999 + self.R\n",
    "        \n",
    "        #if generally looking for next two to link\n",
    "        if node is None:\n",
    "            #indices of nodes to connect\n",
    "            index_pair = np.unravel_index(R_mute.argmin(), R_mute.shape)\n",
    "            \n",
    "            #get the corresponding names\n",
    "            name_pair  = (self.name_dict[index_pair[0]],self.name_dict[index_pair[1]]) \n",
    "            return name_pair\n",
    "        \n",
    "        #if looking for someone to make a link for\n",
    "        else:\n",
    "            #checking in the graph\n",
    "            if node not in self.index_dict.keys():\n",
    "                raise ValueError(\"Node not in graph\")\n",
    "                \n",
    "            #if green lit\n",
    "            else:\n",
    "                #getting the index of our person\n",
    "                index1 = self.index_dict[node]\n",
    "                \n",
    "                \n",
    "                #finding the index of the minimum resistance to our person, finding who they are\n",
    "                index2 = np.argmin(R_mute[index1])\n",
    "                \n",
    "                friend = self.name_dict[index2]\n",
    "                \n",
    "                return friend\n",
    "        \n",
    "        \n",
    "\n",
    "    def add_link(self, node1, node2):\n",
    "        \"\"\"Add a link to the graph between node 1 and node 2 by updating the\n",
    "        adjacency matrix and the effective resistance matrix.\n",
    "\n",
    "        Parameters:\n",
    "            node1 (str): The name of a node in the network.\n",
    "            node2 (str): The name of a node in the network.\n",
    "\n",
    "        Raises:\n",
    "            ValueError: If either node1 or node2 is not in the graph.\n",
    "        \"\"\"\n",
    "        #checking if nodes are in the graph\n",
    "        if node1 not in self.index_dict.keys() or node2 not in self.index_dict.keys():\n",
    "            raise ValueError('nodes need to be in the graph')\n",
    "        \n",
    "        #getting the indices of the two nodes\n",
    "        index1 = self.index_dict[node1]\n",
    "        index2 = self.index_dict[node2]\n",
    "        \n",
    "        #creating the link between the nodes\n",
    "        self.A[index1,index2] = 1\n",
    "        self.A[index2,index1] = 1"
   ]
  },
  {
   "cell_type": "markdown",
   "metadata": {},
   "source": [
    "### Displaying the file"
   ]
  },
  {
   "cell_type": "code",
   "execution_count": 21,
   "metadata": {},
   "outputs": [
    {
     "data": {
      "text/plain": [
       "[['Piers', 'Abigail'],\n",
       " ['Piers', 'Oliver'],\n",
       " ['Abigail', 'Oliver'],\n",
       " ['Piers', 'Stephanie'],\n",
       " ['Abigail', 'Stephanie'],\n",
       " ['Oliver', 'Stephanie'],\n",
       " ['Piers', 'Carol'],\n",
       " ['Piers', 'Melanie'],\n",
       " ['Piers', 'Stephen'],\n",
       " ['Carol', 'Stephen'],\n",
       " ['Melanie', 'Stephen'],\n",
       " ['Piers', 'Sally'],\n",
       " ['Abigail', 'Sally'],\n",
       " ['Oliver', 'Sally'],\n",
       " ['Stephanie', 'Sally'],\n",
       " ['Piers', 'Penelope'],\n",
       " ['Oliver', 'Penelope'],\n",
       " ['Oliver', 'Alan'],\n",
       " ['Piers', 'Trevor'],\n",
       " ['Carol', 'Trevor'],\n",
       " ['Melanie', 'Trevor'],\n",
       " ['Piers', 'Jake'],\n",
       " ['Piers', 'Mary'],\n",
       " ['Stephanie', 'Mary'],\n",
       " ['Piers', 'Anna'],\n",
       " ['Abigail', 'Anna'],\n",
       " ['Oliver', 'Anna'],\n",
       " ['Stephanie', 'Anna'],\n",
       " ['Melanie', 'Connor'],\n",
       " ['Stephen', 'Connor'],\n",
       " ['Piers', 'John'],\n",
       " ['Abigail', 'John'],\n",
       " ['Piers', 'Eric'],\n",
       " ['Abigail', 'Eric'],\n",
       " ['Piers', 'Paul'],\n",
       " ['Abigail', 'Paul'],\n",
       " ['Colin', 'Jane'],\n",
       " ['Jake', 'Jane'],\n",
       " ['Oliver', 'Thomas'],\n",
       " ['Colin', 'Thomas'],\n",
       " ['Jake', 'Thomas'],\n",
       " ['Oliver', 'Christopher'],\n",
       " ['Colin', 'Charles'],\n",
       " ['Brandon', 'Charles'],\n",
       " ['Abigail', 'Madeleine'],\n",
       " ['Penelope', 'Madeleine'],\n",
       " ['Piers', 'Tracey'],\n",
       " ['Jake', 'Tracey'],\n",
       " ['Jane', 'Tracey'],\n",
       " ['Christopher', 'Tracey'],\n",
       " ['Oliver', 'Sonia'],\n",
       " ['Penelope', 'Sonia'],\n",
       " ['Ruth', 'Sonia'],\n",
       " ['Evan', 'Sonia'],\n",
       " ['Max', 'Sonia'],\n",
       " ['Theresa', 'Sonia'],\n",
       " ['Alexander', 'Sonia'],\n",
       " ['Colin', 'Sonia'],\n",
       " ['Charles', 'Sonia'],\n",
       " ['Madeleine', 'Sonia'],\n",
       " ['Tracey', 'Sonia'],\n",
       " ['Penelope', 'Emily'],\n",
       " ['Alan', 'Emily'],\n",
       " ['Anna', 'Emily'],\n",
       " ['Ruth', 'Emily'],\n",
       " ['Evan', 'Emily'],\n",
       " ['Max', 'Emily'],\n",
       " ['Eric', 'Emily'],\n",
       " ['Theresa', 'Emily'],\n",
       " ['Alexander', 'Emily'],\n",
       " ['Colin', 'Emily'],\n",
       " ['Brandon', 'Emily'],\n",
       " ['Thomas', 'Emily'],\n",
       " ['Christopher', 'Emily'],\n",
       " ['Charles', 'Emily'],\n",
       " ['Madeleine', 'Emily'],\n",
       " ['Tracey', 'Emily'],\n",
       " ['Sonia', 'Emily'],\n",
       " ['']]"
      ]
     },
     "execution_count": 21,
     "metadata": {},
     "output_type": "execute_result"
    }
   ],
   "source": [
    "with open('social_network.csv') as readfile:\n",
    "    ff = readfile.read().split('\\n')\n",
    "for i in range(len(ff)):\n",
    "    ff[i] = ff[i].split(',')\n",
    "ff"
   ]
  },
  {
   "cell_type": "markdown",
   "metadata": {},
   "source": [
    "### Creating object and displaying different attributes and functions"
   ]
  },
  {
   "cell_type": "code",
   "execution_count": 25,
   "metadata": {},
   "outputs": [
    {
     "data": {
      "text/plain": [
       "array([[0., 1., 1., ..., 0., 0., 0.],\n",
       "       [1., 0., 1., ..., 0., 0., 0.],\n",
       "       [1., 1., 0., ..., 0., 0., 0.],\n",
       "       ...,\n",
       "       [0., 0., 0., ..., 0., 0., 1.],\n",
       "       [0., 0., 0., ..., 0., 0., 1.],\n",
       "       [0., 0., 0., ..., 1., 1., 0.]])"
      ]
     },
     "execution_count": 25,
     "metadata": {},
     "output_type": "execute_result"
    }
   ],
   "source": [
    "LLP = LinkPredictor()\n",
    "# adjacency matrix\n",
    "LLP.A"
   ]
  },
  {
   "cell_type": "code",
   "execution_count": 26,
   "metadata": {},
   "outputs": [
    {
     "data": {
      "text/plain": [
       "array([[0.        , 0.18998381, 0.19809478, ..., 0.72006729, 0.72006729,\n",
       "        0.2333001 ],\n",
       "       [0.18998381, 0.        , 0.22975655, ..., 0.76301021, 0.76301021,\n",
       "        0.27562492],\n",
       "       [0.19809478, 0.22975655, 0.        , ..., 0.69073556, 0.69073556,\n",
       "        0.20953544],\n",
       "       ...,\n",
       "       [0.72006729, 0.76301021, 0.69073556, ..., 0.        , 1.        ,\n",
       "        0.53555306],\n",
       "       [0.72006729, 0.76301021, 0.69073556, ..., 1.        , 0.        ,\n",
       "        0.53555306],\n",
       "       [0.2333001 , 0.27562492, 0.20953544, ..., 0.53555306, 0.53555306,\n",
       "        0.        ]])"
      ]
     },
     "execution_count": 26,
     "metadata": {},
     "output_type": "execute_result"
    }
   ],
   "source": [
    "# resistance matrix\n",
    "LLP.R"
   ]
  },
  {
   "cell_type": "markdown",
   "metadata": {},
   "source": [
    "### The LLP predicts a link between Emily and Oliver. After adding a connection between them, the next predicted link is between Emily and Piers."
   ]
  },
  {
   "cell_type": "code",
   "execution_count": 27,
   "metadata": {},
   "outputs": [
    {
     "data": {
      "text/plain": [
       "('Emily', 'Oliver')"
      ]
     },
     "execution_count": 27,
     "metadata": {},
     "output_type": "execute_result"
    }
   ],
   "source": [
    "LLP.predict_link()"
   ]
  },
  {
   "cell_type": "code",
   "execution_count": 28,
   "metadata": {},
   "outputs": [],
   "source": [
    "LLP.add_link('Emily', 'Oliver')"
   ]
  },
  {
   "cell_type": "code",
   "execution_count": 29,
   "metadata": {},
   "outputs": [
    {
     "data": {
      "text/plain": [
       "('Emily', 'Piers')"
      ]
     },
     "execution_count": 29,
     "metadata": {},
     "output_type": "execute_result"
    }
   ],
   "source": [
    "LLP.predict_link()"
   ]
  }
 ],
 "metadata": {
  "kernelspec": {
   "display_name": "Python 3",
   "language": "python",
   "name": "python3"
  },
  "language_info": {
   "codemirror_mode": {
    "name": "ipython",
    "version": 3
   },
   "file_extension": ".py",
   "mimetype": "text/x-python",
   "name": "python",
   "nbconvert_exporter": "python",
   "pygments_lexer": "ipython3",
   "version": "3.7.3"
  }
 },
 "nbformat": 4,
 "nbformat_minor": 4
}
