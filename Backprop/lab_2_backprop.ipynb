{
 "cells": [
  {
   "cell_type": "markdown",
   "metadata": {
    "id": "DVL7_bgmIAPR"
   },
   "source": [
    "# Backpropagation Lab\n",
    "## February 2022\n",
    "### Overview: Manual implementation of a backpropagation algorithm"
   ]
  },
  {
   "cell_type": "code",
   "execution_count": 1,
   "metadata": {
    "id": "6ZbYjZZZ_yLV"
   },
   "outputs": [],
   "source": [
    "def warn(*args, **kwargs):\n",
    "    pass\n",
    "import warnings\n",
    "warnings.warn = warn\n",
    "\n",
    "from sklearn.base import BaseEstimator, ClassifierMixin\n",
    "from sklearn.neural_network import MLPClassifier\n",
    "import numpy as np\n",
    "import matplotlib.pyplot as plt\n",
    "from scipy.io import arff\n",
    "import pandas as pd"
   ]
  },
  {
   "cell_type": "markdown",
   "metadata": {
    "id": "sCcEPx5VIORj"
   },
   "source": [
    "## 1. (40%) Correctly implement and submit your own code for the backpropagation algorithm. \n",
    "\n",
    "## Code requirements \n",
    "- Ability to create a network structure with at least one hidden layer and an arbitrary number of nodes.\n",
    "- Random weight initialization with small random weights with mean of 0 and a variance of 1.\n",
    "- Use Stochastic/On-line training updates: Iterate and update weights after each training instance (i.e., do not attempt batch updates)\n",
    "- Implement a validation set based stopping criterion.\n",
    "- Shuffle training set at each epoch.\n",
    "- Option to include a momentum term\n",
    "\n",
    "Use your Backpropagation algorithm to solve the Debug data. We provide you with several parameters, and you should be able to replicate our results every time. When you are confident it is correct, run your script on the Evaluation data with the same parameters, and print your final weights."
   ]
  },
  {
   "cell_type": "code",
   "execution_count": 2,
   "metadata": {},
   "outputs": [],
   "source": [
    "class MLPNode():\n",
    "    def __init__(self,weights,lr,name,momentum=0,end_node=False,bias_node=False,input_node=False):\n",
    "        \"\"\"\n",
    "        Initialize a node class with the following attributes\n",
    "        \"\"\"\n",
    "        #weights are weights surpise, Inputs will hold all forward incoming data, backputs will hold all backward incoming\n",
    "        #data\n",
    "        self.weights = np.array(weights)\n",
    "        self.Inputs = []\n",
    "        self.backputs = []\n",
    "        \n",
    "        #booleans about type of node\n",
    "        self.end_node = end_node\n",
    "        self.bias_node = bias_node\n",
    "        self.input_node = input_node\n",
    "        \n",
    "        #learning rate and momentum\n",
    "        self.lr = lr\n",
    "        self.momentum = momentum\n",
    "        \n",
    "        #clicked is an index tracker\n",
    "        self.clicked = 0\n",
    "        \n",
    "        #you can pass in a name for the little guy\n",
    "        self.name=name\n",
    "        \n",
    "        #initialize a list of deltas that will be used only when momentum is nonzero\n",
    "        if weights is not None:\n",
    "            self.deltas = np.array([0.]*len(weights))\n",
    "    \n",
    "    def set_manual(self,manual):\n",
    "        \"\"\"Save the manually input input (for input_node only)\"\"\"\n",
    "        self.manual = manual\n",
    "        \n",
    "    def set_target(self,target):\n",
    "        \"\"\"Save the target value if node is endnode\"\"\"\n",
    "        self.target = target\n",
    "    \n",
    "    def process(self):\n",
    "        \"\"\"Run the net of the inputs through sigmoid (if not input node or bias node)\"\"\"\n",
    "        if self.input_node:\n",
    "            self.z = self.manual\n",
    "            \n",
    "        elif self.bias_node:\n",
    "            self.z = 1. \n",
    "            \n",
    "        else:\n",
    "            net = sum(self.Inputs)\n",
    "            self.z = 1. / (1. + np.exp(-net))\n",
    "        \n",
    "    def send_output(self):\n",
    "        \"\"\"Return the output of the sigmoid times the weight\"\"\"\n",
    "        self.process()\n",
    "        return self.z*self.weights[self.clicked]\n",
    "    \n",
    "    def receive_input(self,Input):\n",
    "        \"\"\"Store all inputs from incoming connected nodes\"\"\"\n",
    "        self.Inputs.append(Input)\n",
    "    \n",
    "    def __rshift__(self,other):\n",
    "        \"\"\"Shorthand for sending information forward between nodes\"\"\"\n",
    "        other.receive_input(self.send_output())\n",
    "        self.clicked += 1\n",
    "    \n",
    "    def recieve_backputs(self,other):\n",
    "        \"\"\"Store all deltas and respective weights backpropped from subsequent nodes\"\"\"\n",
    "        self.backputs.insert(0,[other.delta,self.weights[self.clicked-1]])\n",
    "        self.clicked -= 1\n",
    "        \n",
    "    def __lshift__(self,other):\n",
    "        \"\"\"Shorthand for sending information backward between nodes\"\"\"\n",
    "        self.recieve_backputs(other.calc_error())\n",
    "    \n",
    "    def calc_error(self):\n",
    "        \"\"\"Calculate the error delta\"\"\"\n",
    "        #if endnode, calc error delta without backputs\n",
    "        self.process()\n",
    "        if self.end_node:\n",
    "            self.delta = (self.target - self.z)*self.z*(1.-self.z)\n",
    "            \n",
    "        #if not endnode, must use backput deltas and weights to calc error delta\n",
    "        else:\n",
    "            Sum = np.dot(np.array(self.backputs).T[0],np.array(self.backputs).T[1])\n",
    "            self.delta = Sum*self.z*(1-self.z)\n",
    "            \n",
    "        return self\n",
    "    \n",
    "    def update_weights(self):\n",
    "        \"\"\"Update the weights\"\"\"\n",
    "        #use the backputs to calculate how the weights should change\n",
    "        backy = np.array([self.backputs]).T[0]\n",
    "        delta = (self.lr * backy * self.z).flatten() + (self.momentum * self.deltas).flatten()\n",
    "        self.weights += delta\n",
    "        self.deltas = delta\n",
    "    \n",
    "    def reset(self):\n",
    "        \"\"\"Reset the input and backput lists\"\"\"\n",
    "        self.Inputs = []\n",
    "        self.backputs = []\n",
    "        \n",
    "    def __str__(self):\n",
    "        return self.name"
   ]
  },
  {
   "cell_type": "code",
   "execution_count": 3,
   "metadata": {
    "id": "_a2KSZ_7AN0G"
   },
   "outputs": [],
   "source": [
    "class MLP(BaseEstimator,ClassifierMixin):\n",
    "\n",
    "    def __init__(self,lr=.1, momentum=0, shuffle=True,hidden_layer_widths=None,determ=True,validate=False):\n",
    "        \"\"\" Initialize class with chosen hyperparameters.\n",
    "\n",
    "        Args:\n",
    "            lr (float): A learning rate / step size.\n",
    "            shuffle(boolean): Whether to shuffle the training data each epoch. DO NOT SHUFFLE for evaluation / debug datasets.\n",
    "            momentum(float): The momentum coefficent \n",
    "        Optional Args (Args we think will make your life easier):\n",
    "            hidden_layer_widths (list(int)): A list of integers which defines the width of each hidden layer. if hidden layer is none do twice as many hidden nodes as input nodes. (and then one more for the bias node)\n",
    "            For example: input width 1, then hidden layer will be 3 nodes\n",
    "        Example:\n",
    "            mlp = MLP(lr=.2,momentum=.5,shuffle=False,hidden_layer_widths = [3,3]),  <--- this will create a model with two hidden layers, both 3 nodes wide\n",
    "        \"\"\"\n",
    "        self.hidden_layer_widths = hidden_layer_widths\n",
    "        self.lr = lr\n",
    "        self.momentum = momentum\n",
    "        self.shuffle = shuffle\n",
    "        self.determ = determ\n",
    "        self.validate = validate\n",
    "        \n",
    "    def make_nodes(self,X,y, initial_weights):\n",
    "        \"\"\"Create list of nodes\"\"\"\n",
    "        #initially populate Nodes list with Nones\n",
    "        Nodes = []\n",
    "        for number in self.nodeCount:\n",
    "            Nodes.append([None]*(number+1))    #plus 1 is for the bias node\n",
    "        if len(y.shape)==1:                    #end nodes:\n",
    "            Nodes.append([None])\n",
    "        else:\n",
    "            Nodes.append([None]*len(y[0]))\n",
    "        \n",
    "        #NOW CREATING WEIGHTS\n",
    "        if initial_weights is None:\n",
    "            self.weights = self.initialize_weights(Nodes.copy())\n",
    "        else: \n",
    "            if len(np.array([initial_weights]).shape) != 1:\n",
    "                raise ValueError(\"to initialize weight, must put in scalar, which will be uniformly applied to all weights\")\n",
    "            self.weights = self.initialize_weights(Nodes.copy(),initial_weights)\n",
    "        \n",
    "        #Now populating lists with nodes\n",
    "        for i in range(len(Nodes)-1):\n",
    "            for j in range(len(Nodes[i])-1):\n",
    "                #if input node\n",
    "                if i == 0:\n",
    "                    Nodes[i][j] = MLPNode( self.weights[i][j],self.lr,'['+str(i)+']['+str(j)+']',self.momentum,input_node=True  )\n",
    "                    \n",
    "                #otherwise hidden layer node (default)\n",
    "                else:\n",
    "                    Nodes[i][j] = MLPNode( self.weights[i][j],self.lr,'['+str(i)+']['+str(j)+']',self.momentum,  )\n",
    "            #adding bias node\n",
    "            Nodes[i][-1] = MLPNode(self.weights[i][-1],self.lr,'['+str(i)+']['+str(len(Nodes[i])-1)+'](bias)',self.momentum,bias_node=True  )\n",
    "            \n",
    "        #adding end nodes\n",
    "        for j in range(len(Nodes[-1])):\n",
    "            Nodes[-1][j]=MLPNode(None,self.lr,'['+str(len(Nodes)-1)+']['+str(j)+'](end)',end_node=True)\n",
    "            \n",
    "        return Nodes\n",
    "    \n",
    "    def run_forward(self,Nodes,pred=False):\n",
    "        \"\"\"Run the forward propagation algorithm\"\"\"\n",
    "        #now feed forward from input nodes, to hidden layer 1,..., to hidden layer n, to output layer\n",
    "        for i in range(len(Nodes)-2):\n",
    "            for j in range(len(Nodes[i])):\n",
    "                for m in range(len(Nodes[i+1])-1):\n",
    "                    Nodes[i][j] >> Nodes[i+1][m]\n",
    "                if pred: self.Nodes[i][j].clicked = 0\n",
    "                    \n",
    "        for j in range(len(Nodes[-2])):\n",
    "            \n",
    "            for m in range(len(Nodes[-1])):\n",
    "                Nodes[-2][j] >> Nodes[-1][m]\n",
    "                \n",
    "        #if predicting, the index tracker must be reset\n",
    "        if pred: \n",
    "            for j in range(len(self.Nodes[-2])):\n",
    "                self.Nodes[-2][j].clicked = 0\n",
    "        \n",
    "        #print('\\n')\n",
    "        return Nodes\n",
    "        \n",
    "    def run_backward(self,Nodes):\n",
    "        \"\"\"Run the back propagation algorithm\"\"\"\n",
    "        #now backprop the error THIS MUST BE DONE IN THE EXACT OPPOSITE ORDER OF THE FEED FORWARD\n",
    "        for j in reversed(range(len(Nodes[-2]))):\n",
    "            for m in reversed(range(len(Nodes[-1]))):\n",
    "                Nodes[-2][j] << Nodes[-1][m]\n",
    "        \n",
    "        for i in reversed(range(len(Nodes)-2)):\n",
    "            for j in reversed(range(len(Nodes[i]))):\n",
    "                for m in reversed(range(len(Nodes[i+1])-1)):\n",
    "                    Nodes[i][j] << Nodes[i+1][m]\n",
    "        return Nodes\n",
    "    \n",
    "    def fit(self, x, Y, initial_weights=None,Cap=np.inf,vPercent=0.15,threshold=0.1,dontFit=False):\n",
    "        \"\"\" Fit the data; run the algorithm and adjust the weights to find a good solution\n",
    "\n",
    "        Args:\n",
    "            X (array-like): A 2D numpy array with the training data, excluding targets\n",
    "            y (array-like): A 2D numpy array with the training targets\n",
    "        Optional Args (Args we think will make your life easier):\n",
    "            initial_weights (array-like): allows the user to provide initial weights\n",
    "        Returns:\n",
    "            self: this allows this to be chained, e.g. model.fit(X,y).predict(X_test)\n",
    "\n",
    "        \"\"\"\n",
    "        print('next fit starting')\n",
    "        X = x.copy()\n",
    "        y = Y.copy()\n",
    "        #if a validation set is to be used, set it apart from the rest of the data\n",
    "        if self.validate:\n",
    "            #shuffle the data for good measure\n",
    "            X,y = self._shuffle_data(X,y)\n",
    "            \n",
    "            #init lists to hold scores, and init counters to keep track of MSE convergence, divergence\n",
    "            self.MSEs = [100.]\n",
    "            self.vScores = []\n",
    "            self.components = np.array([1.]*len(y[0]))\n",
    "            valid_count = 0\n",
    "            bad_count = 0\n",
    "            \n",
    "            #get vPercent% of the data\n",
    "            portion = round(vPercent*len(X))\n",
    "            validX = X[:portion]\n",
    "            validy = y[:portion]\n",
    "            \n",
    "            #what will be used to train on\n",
    "            X = x[portion:]\n",
    "            y = Y[portion:]\n",
    "            \n",
    "        #creating a list to hold all the nodes; starting with a list of the number of nodes for each layer\n",
    "        if self.hidden_layer_widths is None:\n",
    "            self.hidden_layer_widths = [2*len(X)]\n",
    "        self.nodeCount = [len(X[0])]+self.hidden_layer_widths\n",
    "        \n",
    "        #creating nodes\n",
    "        Nodes = self.make_nodes(X,y,initial_weights)\n",
    "        self.Nodes = Nodes\n",
    "        if self.validate:\n",
    "            self.vScores.append(self.score(validX,validy))\n",
    "        \n",
    "        #if want a baseline accuracy without ever fitting, just return\n",
    "        if dontFit: return self\n",
    "        \n",
    "        self.itrs = 1\n",
    "        while self.itrs <= Cap:\n",
    "            #print(self.itrs)\n",
    "            #for every line of input, run\n",
    "            for i, inpLine in enumerate(X):\n",
    "\n",
    "                #set the values for the input nodes\n",
    "                for j, inp in enumerate(inpLine):\n",
    "                    Nodes[0][j].set_manual(inp)\n",
    "                \n",
    "                #set the values for the target nodes\n",
    "                for j, target in enumerate(y[i]):\n",
    "                    Nodes[-1][j].set_target(target)\n",
    "                \n",
    "                #forward propagate, then back propagate\n",
    "                Nodes = self.run_forward(Nodes)\n",
    "                Nodes = self.run_backward(Nodes)\n",
    "        \n",
    "                #updating weights and resetting nodes\n",
    "                for sub in Nodes[:-1]:\n",
    "                    for node in sub:\n",
    "                        node.update_weights()\n",
    "                        node.reset()\n",
    "                for node in Nodes[-1]:\n",
    "                    node.reset()\n",
    "            \n",
    "            #saving nodes as attributes\n",
    "            self.Nodes = Nodes\n",
    "            \n",
    "            #if using validation set, checking if MSEs are within 0.375 distance from each other\n",
    "            if self.validate:\n",
    "                #mse, accuracy score, and component-wise scores all on validation sets\n",
    "                mse = self.score(validX,validy,MSE=True)\n",
    "                vScore = self.score(validX,validy)\n",
    "                self.components = np.vstack((self.components,self.score(validX,validy,components=True)))\n",
    "                self.vScores.append(vScore)\n",
    "                \n",
    "                #checking if mse values are converging or increasing\n",
    "                if abs(mse - self.MSEs[self.itrs-1]) <= threshold:\n",
    "                    valid_count += 1\n",
    "                    if mse > self.MSEs[self.itrs-1]: bad_count += 1\n",
    "                    else: bad_count = 0\n",
    "                else: valid_count = 0\n",
    "                self.MSEs.append(mse)\n",
    "            \n",
    "            #incrementing iter counter and printing if have reached cap on iters\n",
    "            self.itrs += 1\n",
    "            if self.itrs > Cap: print('cap reached, breaking\\n')\n",
    "                \n",
    "            #if using validation set, check if MSEs have converged ten times in a row; if so, break\n",
    "            if self.validate:\n",
    "                if valid_count >= 10:\n",
    "                    if not self.determ:\n",
    "                        print('MSE converging, breaking\\n')\n",
    "                        break\n",
    "                elif bad_count == 5:\n",
    "                    if not self.determ:\n",
    "                        print('MSE worsening, breaking\\n')\n",
    "                        break\n",
    "            #shuffle            \n",
    "            if self.shuffle:\n",
    "                X,y = self._shuffle_data(X,y)\n",
    "        \n",
    "        #resetting the nodes' clicked attribute for indexing purposes in the predict function\n",
    "        for sub in Nodes:\n",
    "            for node in sub:\n",
    "                node.clicked = 0\n",
    "        \n",
    "        #finally saving as attribute again\n",
    "        self.Nodes = Nodes\n",
    "        \n",
    "        #if validation set being used, cut out first data point which was just noise to fill the space\n",
    "        if self.validate: \n",
    "            self.MSEs = self.MSEs[1:]\n",
    "            self.components = self.components[1:]\n",
    "        return self\n",
    "\n",
    "    def initialize_weights(self,Nodes,value=None):\n",
    "        \"\"\" Initialize weights for backprop.\n",
    "        Uses the Nodes list construction to fill each spot with a list of weights for the respective node connecting\n",
    "        it to all the nodes (except the bias) on the next layer\n",
    "        \"\"\"\n",
    "        if value is None:\n",
    "            #for all but the second to last row\n",
    "            for i in range(len(Nodes)-2):\n",
    "                #make lists of random normal weights the size of the next layer minus 1\n",
    "                nextLen = len(Nodes[i+1])-1\n",
    "                for j in range(len(Nodes[i])):\n",
    "                    Nodes[i][j] = np.random.normal(size=nextLen)\n",
    "                    \n",
    "            #for second to last layer, need exactly number of weights as there are output nodes (no bias to avoid this time)\n",
    "            for j in range(len(Nodes[-2])):\n",
    "                Nodes[-2][j] = np.random.normal(size=len(Nodes[-1]))\n",
    "            \n",
    "            #don't need weight(s) for final node (the output node)\n",
    "            \n",
    "        else:\n",
    "            #for all but the second to last row\n",
    "            for i in range(len(Nodes)-2):\n",
    "                #make lists of random normal weights the size of the next layer minus 1\n",
    "                nextLen = len(Nodes[i+1])-1\n",
    "                for j in range(len(Nodes[i])):\n",
    "                    Nodes[i][j] = [value]*nextLen\n",
    "                    \n",
    "            #for second to last layer, need exactly number of weights as there are output nodes (no bias to avoid this time)\n",
    "            for j in range(len(Nodes[-2])):\n",
    "                Nodes[-2][j] = [value]*len(Nodes[-1])\n",
    "            \n",
    "            #don't need weight(s) for final node (the output node)\n",
    "        \n",
    "        return Nodes\n",
    "\n",
    "    def predict(self, X):\n",
    "        \"\"\" Predict all classes for a dataset X\n",
    "        Args:\n",
    "            X (array-like): A 2D numpy array with the training data, excluding targets\n",
    "        Returns:\n",
    "            array, shape (n_samples,)\n",
    "                Predicted target values per element in X.\n",
    "        \"\"\"\n",
    "        #initializing list of predictions\n",
    "        predsz = []\n",
    "        \n",
    "        #for all the input...\n",
    "        for i, inpLine in enumerate(X):\n",
    "            #first reset the nodes' inputs and backputs\n",
    "            for sub in self.Nodes:\n",
    "                for node in sub:\n",
    "                    node.reset()\n",
    "            \n",
    "            #set the values for the input nodes\n",
    "            for j, inp in enumerate(inpLine):\n",
    "                self.Nodes[0][j].set_manual(inp)\n",
    "            \n",
    "            #prop forward\n",
    "            self.Nodes = self.run_forward(self.Nodes,pred=True)\n",
    "            \n",
    "            #record z values\n",
    "            for node in self.Nodes[-1]: node.process()\n",
    "            predsz.append([node.z for node in self.Nodes[-1]])\n",
    "        \n",
    "        #make into array\n",
    "        predsz = np.array(predsz)\n",
    "        \n",
    "        #if targets are 1d, then just compare with the average\n",
    "        preds = predsz.copy()\n",
    "        if preds.shape[1] == 1:\n",
    "            avg = np.mean(preds)\n",
    "            \n",
    "            #if less than average, change into 1, else 0 (yes, this is how it works for this one)\n",
    "            for i in range(len(preds)):\n",
    "                if preds[i][0] <= avg: preds[i][0] = 1\n",
    "                else: preds[i][0] = 0\n",
    "        \n",
    "        #if targets are not 1d...\n",
    "        else:\n",
    "            for i in range(len(preds)):\n",
    "                #find index of max entry, set everything else to zero, set maxind to you\n",
    "                maxind = np.argmax(preds[i])\n",
    "                preds[i] = np.zeros(len(preds[i]))\n",
    "                preds[i][maxind] = 1\n",
    "        \n",
    "        #save as attributes and return\n",
    "        self.predsz = predsz\n",
    "        self.preds = preds\n",
    "        return self.predsz, self.preds\n",
    "    \n",
    "    def score(self, X, y,MSE=False,components=False):\n",
    "        \"\"\" Return accuracy of model on a given dataset. Must implement own score function.\n",
    "\n",
    "        Args:\n",
    "            X (array-like): A 2D numpy array with data, excluding targets\n",
    "            y (array-like): A 2D numpy array with targets\n",
    "\n",
    "        Returns:\n",
    "            score : float\n",
    "                Mean accuracy of self.predict(X) wrt. y.\n",
    "        \"\"\"\n",
    "        #getting predictions\n",
    "        predsz, preds = self.predict(X)\n",
    "        \n",
    "        #initializing counters \n",
    "        total = 0\n",
    "        number = 0\n",
    "        \n",
    "        #comparing all prediction value with corresponding target value\n",
    "        if not MSE and not components:\n",
    "            for i, T in enumerate(preds):\n",
    "                if np.allclose(T,y[i]): \n",
    "                    total +=1\n",
    "                number +=1\n",
    "                \n",
    "        elif MSE and not components:\n",
    "            mse = ( (predsz - y)**2  ).mean()\n",
    "            return mse\n",
    "        \n",
    "        else: #if components\n",
    "            #returning the score of each component individually\n",
    "            L = y - preds\n",
    "            L = np.where(L<0,0,L)\n",
    "            \n",
    "            score = 1 - (np.sum(L,axis=0)/np.sum(y,axis=0))\n",
    "            \n",
    "            #score[i] gives score for ith attribute\n",
    "            return score\n",
    "            \n",
    "                \n",
    "        #finding average\n",
    "        self.Score = total/number\n",
    "        return self.Score\n",
    "\n",
    "    def _shuffle_data(self, X, y):\n",
    "        \"\"\" Shuffle the data! This _ prefix suggests that this method should only be called internally.\n",
    "            It might be easier to concatenate X & y and shuffle a single 2D array, rather than\n",
    "             shuffling X and y exactly the same way, independently.\n",
    "        \"\"\"\n",
    "        #randomize indices and apply\n",
    "        inds = np.arange(0,len(X),1)\n",
    "        np.random.shuffle(inds)\n",
    "        X = X[inds]\n",
    "        y = y[inds]\n",
    "        \n",
    "        return X,y\n",
    "    \n",
    "    def draw(self):\n",
    "        \"\"\"Draw the nodes in their respective layers, with first layers at the top and later layers below\"\"\"\n",
    "        for i in range(len(self.Nodes)):\n",
    "            for j in range(len(self.Nodes[i])):\n",
    "                print(self.Nodes[i][j],end=' ')\n",
    "            print('\\n\\n')\n",
    "            \n",
    "    def print_weights(self):\n",
    "        \"\"\"For each layer, print the nodes' weights\"\"\"\n",
    "        for i,sub in enumerate(self.Nodes):\n",
    "            print('Layer ',i+1,end='')\n",
    "            if i == len(self.Nodes)-1: print(' (output layer)',end='')\n",
    "            print('\\n')\n",
    "            for node in sub:\n",
    "                print(node,node.weights,'\\n')\n",
    "            print('------------------------------------------------------------------\\n')\n",
    "\n",
    "    ### Not required by sk-learn but required by us for grading. Returns the weights.\n",
    "    def get_weights(self):\n",
    "        \"\"\"Returns the weights of the nodes\"\"\"\n",
    "        #Note: much clearer to use the print_weights function above\n",
    "        weights = []\n",
    "        for sub in self.Nodes:\n",
    "            for node in sub:\n",
    "                weights.append(node.weights)\n",
    "        return weights\n"
   ]
  },
  {
   "cell_type": "markdown",
   "metadata": {
    "id": "KibCIXIThpbE"
   },
   "source": [
    "## 1.1 \n",
    "\n",
    "Debug your model using the following parameters:\n",
    "\n",
    "Learning Rate = 0.1\\\n",
    "Momentum = 0.5\\\n",
    "Deterministic = 10 [This means run it 10 epochs and should be the same everytime you run it]\\\n",
    "Shuffle = False\\\n",
    "Validation size = 0\\\n",
    "Initial Weights = All zeros\\\n",
    "Hidden Layer Widths = [4]\n",
    "\n",
    "---\n",
    "\n",
    "### 1.1.1 Debug \n",
    "\n",
    "Debug your model by running it on the [Debug Dataset](https://byu.instructure.com/courses/14142/files?preview=4421290)\n",
    "\n",
    "\n",
    "Expected Results for Binary Classification (i.e. 1 output node): [debug_bp_0.csv](https://byu.instructure.com/courses/14142/files?preview=4537323) \n",
    "\n",
    "$$ \\text{Layer 1} = \\begin{bmatrix} -8.81779797\\text{e}-05 & -8.81779797\\text{e}-05 & -8.81779797\\text{e}-05 & -8.81779797\\text{e}-05 \\\\ 7.82757731\\text{e}-04 & 7.82757731\\text{e}-04 & 7.82757731\\text{e}-04 & 7.82757731\\text{e}-04 \\\\ -3.94353645\\text{e}-03 & -3.94353645\\text{e}-03 & -3.94353645\\text{e}-03 & -3.94353645\\text{e}-03 \\end{bmatrix}$$\n",
    "                                             \n",
    "$$ \\text{Layer 2} = \\begin{bmatrix} -0.01060888 \\\\ -0.01060888 \\\\ -0.01060888 \\\\ -0.01060888 \\\\ -0.02145495 \\end{bmatrix}$$\n",
    "\n",
    "(The weights do not need to be in this order or shape.)\n",
    "\n",
    "Expected Results for One Hot Vector Classification (i.e. 2 output nodes): [debug_bp_2outs.csv](https://byu.instructure.com/courses/14142/files?preview=4537340) \n",
    "\n",
    "$$ \\text{Layer 1} = \\begin{bmatrix} -0.00018149 & -0.00018149 & -0.00018149 & -0.00018149 \\\\ 0.00157468 & 0.00157468 & 0.00157468 & 0.00157468 \\\\ -0.00788218 & -0.00788218 & -0.00788218 & -0.00788218 \\end{bmatrix}$$\n",
    "                          \n",
    "$$ \\text{Layer 2} = \\begin{bmatrix} 0.01050642 & -0.01050642 \\\\ 0.01050642 & -0.01050642 \\\\ 0.01050642 & -0.01050642 \\\\ 0.01050642 & -0.01050642 \\\\ 0.02148778 & -0.02148778 \\end{bmatrix}$$\n",
    "\n",
    "(The weights do not need to be in this order or shape.)"
   ]
  },
  {
   "cell_type": "code",
   "execution_count": 5,
   "metadata": {
    "id": "KgAyy82gixIF"
   },
   "outputs": [
    {
     "name": "stdout",
     "output_type": "stream",
     "text": [
      "next fit starting\n",
      "cap reached, breaking\n",
      "\n",
      "Layer  1\n",
      "\n",
      "[0][0] [0.00022915 0.00022915 0.00022915 0.00022915] \n",
      "\n",
      "[0][1] [-0.000713 -0.000713 -0.000713 -0.000713] \n",
      "\n",
      "[0][2](bias) [-0.00254453 -0.00254453 -0.00254453 -0.00254453] \n",
      "\n",
      "------------------------------------------------------------------\n",
      "\n",
      "Layer  2\n",
      "\n",
      "[1][0] [0.00566243] \n",
      "\n",
      "[1][1] [0.00566243] \n",
      "\n",
      "[1][2] [0.00566243] \n",
      "\n",
      "[1][3] [0.00566243] \n",
      "\n",
      "[1][4](bias) [0.01136536] \n",
      "\n",
      "------------------------------------------------------------------\n",
      "\n",
      "Layer  3 (output layer)\n",
      "\n",
      "[2][0](end) None \n",
      "\n",
      "------------------------------------------------------------------\n",
      "\n"
     ]
    }
   ],
   "source": [
    "# Load debug data\n",
    "data = arff.loadarff('linsep2nonorigin.arff')\n",
    "df = pd.DataFrame(data[0])\n",
    "\n",
    "#reading for targets t\n",
    "t1 = np.array([[int(t.decode('utf-8'))] for t in df['class']])\n",
    "\n",
    "#reading for inputs x\n",
    "x1 = []\n",
    "for i in range(8):\n",
    "    xi = [df['a1'][i],df['a2'][i]]\n",
    "    x1.append(xi)\n",
    "x1 = np.array(x1)\n",
    "\n",
    "\n",
    "# Train on debug data\n",
    "M1 = MLP(lr=0.1,momentum=0.5,hidden_layer_widths=[4])\n",
    "M1.fit(x1,t1,initial_weights=0.,Cap=10)\n",
    "\n",
    "# Print weights\n",
    "M1.print_weights()"
   ]
  },
  {
   "cell_type": "code",
   "execution_count": 6,
   "metadata": {},
   "outputs": [
    {
     "name": "stdout",
     "output_type": "stream",
     "text": [
      "next fit starting\n",
      "cap reached, breaking\n",
      "\n",
      "Layer  1\n",
      "\n",
      "[0][0] [0.00049998 0.00049998 0.00049998 0.00049998] \n",
      "\n",
      "[0][1] [-0.00107652 -0.00107652 -0.00107652 -0.00107652] \n",
      "\n",
      "[0][2](bias) [-0.00500334 -0.00500334 -0.00500334 -0.00500334] \n",
      "\n",
      "------------------------------------------------------------------\n",
      "\n",
      "Layer  2\n",
      "\n",
      "[1][0] [ 0.00579023 -0.00579023] \n",
      "\n",
      "[1][1] [ 0.00579023 -0.00579023] \n",
      "\n",
      "[1][2] [ 0.00579023 -0.00579023] \n",
      "\n",
      "[1][3] [ 0.00579023 -0.00579023] \n",
      "\n",
      "[1][4](bias) [ 0.01159517 -0.01159517] \n",
      "\n",
      "------------------------------------------------------------------\n",
      "\n",
      "Layer  3 (output layer)\n",
      "\n",
      "[2][0](end) None \n",
      "\n",
      "[2][1](end) None \n",
      "\n",
      "------------------------------------------------------------------\n",
      "\n"
     ]
    },
    {
     "data": {
      "text/plain": [
       "(array([[0.50578565, 0.49421435],\n",
       "        [0.50578494, 0.49421506],\n",
       "        [0.5057858 , 0.4942142 ],\n",
       "        [0.50578493, 0.49421507],\n",
       "        [0.50578618, 0.49421382],\n",
       "        [0.50578672, 0.49421328],\n",
       "        [0.50578617, 0.49421383],\n",
       "        [0.50578686, 0.49421314]]), array([[1., 0.],\n",
       "        [1., 0.],\n",
       "        [1., 0.],\n",
       "        [1., 0.],\n",
       "        [1., 0.],\n",
       "        [1., 0.],\n",
       "        [1., 0.],\n",
       "        [1., 0.]]))"
      ]
     },
     "execution_count": 6,
     "metadata": {},
     "output_type": "execute_result"
    }
   ],
   "source": [
    "#TWO OUTPUT NODES\n",
    "t2 = []\n",
    "for T in t1:\n",
    "    t2.append( np.concatenate( (T,np.array([abs(1-T[0])]))    ))\n",
    "t2 = np.array(t2)\n",
    "\n",
    "M1 = MLP(lr=0.1,momentum=0.5,hidden_layer_widths=[4])\n",
    "M1.fit(x1,t2,initial_weights=0.,Cap=10)\n",
    "M1.print_weights()\n",
    "M1.predict(x1)"
   ]
  },
  {
   "cell_type": "code",
   "execution_count": 7,
   "metadata": {},
   "outputs": [
    {
     "data": {
      "text/plain": [
       "(array([[0.50578565, 0.49421435],\n",
       "        [0.50578494, 0.49421506],\n",
       "        [0.5057858 , 0.4942142 ],\n",
       "        [0.50578493, 0.49421507],\n",
       "        [0.50578618, 0.49421382],\n",
       "        [0.50578672, 0.49421328],\n",
       "        [0.50578617, 0.49421383],\n",
       "        [0.50578686, 0.49421314]]), array([[1., 0.],\n",
       "        [1., 0.],\n",
       "        [1., 0.],\n",
       "        [1., 0.],\n",
       "        [1., 0.],\n",
       "        [1., 0.],\n",
       "        [1., 0.],\n",
       "        [1., 0.]]))"
      ]
     },
     "execution_count": 7,
     "metadata": {},
     "output_type": "execute_result"
    }
   ],
   "source": [
    "#TEN ITERATIONS' PREDICTIONS\n",
    "M1.predict(x1)"
   ]
  },
  {
   "cell_type": "code",
   "execution_count": 8,
   "metadata": {},
   "outputs": [
    {
     "data": {
      "text/plain": [
       "0.5"
      ]
     },
     "execution_count": 8,
     "metadata": {},
     "output_type": "execute_result"
    }
   ],
   "source": [
    "#only 50% accurate at 10 epochs\n",
    "M1.score(x1,t2)"
   ]
  },
  {
   "cell_type": "code",
   "execution_count": 9,
   "metadata": {},
   "outputs": [
    {
     "name": "stdout",
     "output_type": "stream",
     "text": [
      "next fit starting\n",
      "cap reached, breaking\n",
      "\n"
     ]
    },
    {
     "data": {
      "text/plain": [
       "(array([[0.52954852, 0.47045148],\n",
       "        [0.63438054, 0.36561946],\n",
       "        [0.49846131, 0.50153869],\n",
       "        [0.63293188, 0.36706812],\n",
       "        [0.41990651, 0.58009349],\n",
       "        [0.31158719, 0.68841281],\n",
       "        [0.41747719, 0.58252281],\n",
       "        [0.28200942, 0.71799058]]), array([[1., 0.],\n",
       "        [1., 0.],\n",
       "        [0., 1.],\n",
       "        [1., 0.],\n",
       "        [0., 1.],\n",
       "        [0., 1.],\n",
       "        [0., 1.],\n",
       "        [0., 1.]]))"
      ]
     },
     "execution_count": 9,
     "metadata": {},
     "output_type": "execute_result"
    }
   ],
   "source": [
    "# PREDICTS PERFECTLY (for test set) WITH 347 (min) ITERATIONS:\n",
    "M1.fit(x1,t2,initial_weights=0.,Cap=347)\n",
    "M1.predict(x1)"
   ]
  },
  {
   "cell_type": "code",
   "execution_count": 10,
   "metadata": {},
   "outputs": [
    {
     "data": {
      "text/plain": [
       "0.875"
      ]
     },
     "execution_count": 10,
     "metadata": {},
     "output_type": "execute_result"
    }
   ],
   "source": [
    "#score good\n",
    "M1.score(x1,t2)"
   ]
  },
  {
   "cell_type": "markdown",
   "metadata": {
    "id": "kY3VNB1ui03N"
   },
   "source": [
    "### 1.1.2 Evaluation\n",
    "\n",
    "Evaluate your model using the following parameters:\n",
    "\n",
    "Learning Rate = 0.1\\\n",
    "Momentum = 0.5\\\n",
    "Deterministic = 10 [This means run it 10 epochs and should be the same everytime you run it]\\\n",
    "Shuffle = False\\\n",
    "Validation size = 0\\\n",
    "Initial Weights = All zeros\\\n",
    "Hidden Layer Widths = [4]\n",
    "\n",
    "We will evaluate your model based on printed weights after training on the [Evaluation Dataset](https://byu.instructure.com/courses/14142/files?preview=4421294)"
   ]
  },
  {
   "cell_type": "code",
   "execution_count": 12,
   "metadata": {
    "id": "2yAxA78QjDh2"
   },
   "outputs": [
    {
     "name": "stdout",
     "output_type": "stream",
     "text": [
      "next fit starting\n",
      "cap reached, breaking\n",
      "\n",
      "Layer  1\n",
      "\n",
      "[0][0] [1.30932366 1.30932366 1.30932366 1.30932366] \n",
      "\n",
      "[0][1] [0.80601033 0.80601033 0.80601033 0.80601033] \n",
      "\n",
      "[0][2] [0.92744187 0.92744187 0.92744187 0.92744187] \n",
      "\n",
      "[0][3] [0.22165294 0.22165294 0.22165294 0.22165294] \n",
      "\n",
      "[0][4](bias) [-1.45313731 -1.45313731 -1.45313731 -1.45313731] \n",
      "\n",
      "------------------------------------------------------------------\n",
      "\n",
      "Layer  2\n",
      "\n",
      "[1][0] [-1.88512443] \n",
      "\n",
      "[1][1] [-1.88512443] \n",
      "\n",
      "[1][2] [-1.88512443] \n",
      "\n",
      "[1][3] [-1.88512443] \n",
      "\n",
      "[1][4](bias) [4.57969955] \n",
      "\n",
      "------------------------------------------------------------------\n",
      "\n",
      "Layer  3 (output layer)\n",
      "\n",
      "[2][0](end) None \n",
      "\n",
      "------------------------------------------------------------------\n",
      "\n"
     ]
    }
   ],
   "source": [
    "# Load evaluation data\n",
    "data = arff.loadarff('data_banknote_authentication.arff')\n",
    "df = pd.DataFrame(data[0])\n",
    "\n",
    "t2 = np.array([[int(t.decode('utf-8'))] for t in df['class']])\n",
    "\n",
    "x2 = []\n",
    "for i in range(1372):\n",
    "    xi = [df[KEY][i] for KEY in df.keys()[:-1]]\n",
    "    x2.append(xi)\n",
    "x2 = np.array(x2)\n",
    "\n",
    "# Train on evaluation data\n",
    "M2 = MLP(lr=0.1,momentum=0.5,hidden_layer_widths=[4],shuffle=False)\n",
    "M2.fit(x2,t2,initial_weights=0.,Cap=10)\n",
    "\n",
    "# Print weights\n",
    "M2.print_weights()"
   ]
  },
  {
   "cell_type": "markdown",
   "metadata": {
    "id": "9vWiTdlbR2Xh"
   },
   "source": [
    "## 2. (10%) Backpropagation on the Iris Classification problem.\n",
    "\n",
    "Load the Iris Dataset [Iris Dataset](https://byu.instructure.com/courses/14142/files?preview=4421369)\n",
    "\n",
    "Parameters:\n",
    "- One layer of hidden nodes with the number of hidden nodes being twice the number of inputs.\n",
    "- Use a 80/20 split of the data for the training/test set.\n",
    "- Use a learning rate of 0.1\n",
    "- Use a validation set (15% of the training set) taken from the training set for your stopping criteria\n",
    "- Create one graph with MSE (mean squared error) over epochs from the training set and validation set\n",
    "- Create one graph with classification accuracy (% classified correctly) over epochs from the training set and validation set\n",
    "- Print out your test set accuracy\n",
    "\n",
    "The results for the different measurables should be shown with a different color, line type, etc. Typical backpropagation accuracies for the Iris data set are 85-95%.\n",
    "\n",
    "---"
   ]
  },
  {
   "cell_type": "code",
   "execution_count": 13,
   "metadata": {
    "id": "4SSoasDQSKXb"
   },
   "outputs": [
    {
     "name": "stdout",
     "output_type": "stream",
     "text": [
      "next fit starting\n",
      "MSE worsening, breaking\n",
      "\n",
      "Score = 0.9833333333333333\n"
     ]
    }
   ],
   "source": [
    "# Iris Classification\n",
    "#loading data\n",
    "iris = arff.loadarff(\"iris.arff\")\n",
    "dfi = pd.DataFrame(iris[0])\n",
    "\n",
    "#reading inputs\n",
    "Flowers = []\n",
    "for i in range(150):\n",
    "    xi = [dfi['sepallength'][i],dfi['sepalwidth'][i],dfi['petallength'][i],dfi['petalwidth'][i]]\n",
    "    Flowers.append(xi)\n",
    "Flowers = np.array(Flowers)\n",
    "\n",
    "#reading targets in\n",
    "Ftargets = np.zeros((150,3))\n",
    "for i, item in enumerate(dfi['class']):\n",
    "    if item == b'Iris-setosa': Ftargets[i][0] = 1\n",
    "    elif item == b'Iris-versicolor': Ftargets[i][1] = 1\n",
    "    else: Ftargets[i][2] = 1\n",
    "\n",
    "#making randomized indices to shuffle data\n",
    "inds = np.arange(0,50,1)\n",
    "np.random.shuffle(inds)\n",
    "\n",
    "#shuffling, sorting, and combining input data\n",
    "Flowers1 = Flowers[inds]\n",
    "Flowers2 = Flowers[inds+50]\n",
    "Flowers3 = Flowers[inds+100]\n",
    "FlowersTrain = np.vstack((Flowers1[:30],Flowers2[:30],Flowers3[:30]))\n",
    "FlowersTest  = np.vstack((Flowers1[30:],Flowers2[30:],Flowers3[30:]))\n",
    "\n",
    "#shuffling, sorting, and combining target data\n",
    "Ftargets1 = Ftargets[inds] \n",
    "Ftargets2 = Ftargets[inds+50]\n",
    "Ftargets3 = Ftargets[inds+100]\n",
    "FtargetsTrain = np.vstack((Ftargets1[:30],Ftargets2[:30],Ftargets3[:30]))\n",
    "FtargetsTest  = np.vstack((Ftargets1[30:],Ftargets2[30:],Ftargets3[30:]))\n",
    "\n",
    "#doing MLP, default validation set is 15%\n",
    "Mi = MLP(lr=0.1,hidden_layer_widths=[8],determ=False,validate=True)\n",
    "Mi.fit(FlowersTrain,FtargetsTrain,threshold=0.001)\n",
    "print(\"Score =\",Mi.score(FlowersTest,FtargetsTest))"
   ]
  },
  {
   "cell_type": "code",
   "execution_count": 14,
   "metadata": {},
   "outputs": [
    {
     "data": {
      "text/plain": [
       "502"
      ]
     },
     "execution_count": 14,
     "metadata": {},
     "output_type": "execute_result"
    }
   ],
   "source": [
    "#checking number of iterations for MSE to converge\n",
    "Mi.itrs"
   ]
  },
  {
   "cell_type": "code",
   "execution_count": 15,
   "metadata": {},
   "outputs": [
    {
     "data": {
      "text/plain": [
       "array([1.  , 0.95, 1.  ])"
      ]
     },
     "execution_count": 15,
     "metadata": {},
     "output_type": "execute_result"
    }
   ],
   "source": [
    "#checking component-wise scores\n",
    "Mi.score(FlowersTest,FtargetsTest,components=True)"
   ]
  },
  {
   "cell_type": "code",
   "execution_count": 16,
   "metadata": {},
   "outputs": [
    {
     "data": {
      "image/png": "[encoded data removed]",
      "text/plain": [
       "<Figure size 432x288 with 1 Axes>"
      ]
     },
     "metadata": {
      "needs_background": "light"
     },
     "output_type": "display_data"
    }
   ],
   "source": [
    "#plotting MSEs\n",
    "plt.plot(np.arange(1,len(Mi.MSEs)+1,1),Mi.MSEs)\n",
    "plt.xlabel(\"Epoch\")\n",
    "plt.ylabel(\"MSE\")\n",
    "plt.title(\"MSE vs Epoch for Iris\")\n",
    "plt.show()"
   ]
  },
  {
   "cell_type": "code",
   "execution_count": 17,
   "metadata": {},
   "outputs": [
    {
     "data": {
      "image/png": "[encoded data removed]",
      "text/plain": [
       "<Figure size 432x288 with 1 Axes>"
      ]
     },
     "metadata": {
      "needs_background": "light"
     },
     "output_type": "display_data"
    }
   ],
   "source": [
    "#plotting scores\n",
    "plt.plot(np.arange(1,len(Mi.vScores)+1,1),Mi.vScores,'r')\n",
    "plt.xlabel(\"Epoch\")\n",
    "plt.ylabel(\"Score\")\n",
    "plt.title(\"Score vs Epoch\")\n",
    "plt.show()"
   ]
  },
  {
   "cell_type": "markdown",
   "metadata": {},
   "source": [
    "\n",
    "\n",
    "## 3. (10%) Working with the Vowel Dataset - Learning Rate\n",
    "\n",
    "Load the Vowel Dataset [Vowel Dataset](https://byu.instructure.com/courses/14142/files?preview=4537354)\n",
    "\n",
    "- Use one layer of hidden nodes with the number of hidden nodes being twice the number of inputs.\n",
    "- Use random 80/20 splits of the data for the training/test set.\n",
    "- Use a validation set (15% of the training set) taken from the training set for your stopping criteria\n",
    "- Try some different learning rates (LR). Note that each LR will probably require a different number of epochs to learn. \n",
    "\n",
    "- For each LR you test, plot their validation's set MSE over Epochs on the same graph. Graph 4-5 different LRs and make them different enough to see a difference between them.\n",
    "\n",
    "In general, whenever you are testing a parameter such as LR, # of hidden nodes, etc., test values until no more improvement is found. For example, if 20 hidden nodes did better than 10, you would not stop at 20, but would try 40, etc., until you no longer get improvement.\n",
    "\n",
    "If you would like you may average the results of multiple initial conditions (e.g. 3) per LR, and that obviously would give more accurate results.\n",
    "\n",
    "<img src=https://raw.githubusercontent.com/cs472ta/CS472/master/images/backpropagation/backprop_val_set_MSE_vs_epochs.png width=500 height=500  align=\"left\">"
   ]
  },
  {
   "cell_type": "code",
   "execution_count": 18,
   "metadata": {},
   "outputs": [
    {
     "data": {
      "text/html": [
       "<div>\n",
       "<style scoped>\n",
       "    .dataframe tbody tr th:only-of-type {\n",
       "        vertical-align: middle;\n",
       "    }\n",
       "\n",
       "    .dataframe tbody tr th {\n",
       "        vertical-align: top;\n",
       "    }\n",
       "\n",
       "    .dataframe thead th {\n",
       "        text-align: right;\n",
       "    }\n",
       "</style>\n",
       "<table border=\"1\" class=\"dataframe\">\n",
       "  <thead>\n",
       "    <tr style=\"text-align: right;\">\n",
       "      <th></th>\n",
       "      <th>Train or Test</th>\n",
       "      <th>Speaker Number</th>\n",
       "      <th>Sex</th>\n",
       "      <th>Feature 0</th>\n",
       "      <th>Feature 1</th>\n",
       "      <th>Feature 2</th>\n",
       "      <th>Feature 3</th>\n",
       "      <th>Feature 4</th>\n",
       "      <th>Feature 5</th>\n",
       "      <th>Feature 6</th>\n",
       "      <th>Feature 7</th>\n",
       "      <th>Feature 8</th>\n",
       "      <th>Feature 9</th>\n",
       "      <th>Class</th>\n",
       "    </tr>\n",
       "  </thead>\n",
       "  <tbody>\n",
       "    <tr>\n",
       "      <th>0</th>\n",
       "      <td>b'Train'</td>\n",
       "      <td>b'Andrew'</td>\n",
       "      <td>b'Male'</td>\n",
       "      <td>-3.639</td>\n",
       "      <td>0.418</td>\n",
       "      <td>-0.670</td>\n",
       "      <td>1.779</td>\n",
       "      <td>-0.168</td>\n",
       "      <td>1.627</td>\n",
       "      <td>-0.388</td>\n",
       "      <td>0.529</td>\n",
       "      <td>-0.874</td>\n",
       "      <td>-0.814</td>\n",
       "      <td>b'hid'</td>\n",
       "    </tr>\n",
       "    <tr>\n",
       "      <th>1</th>\n",
       "      <td>b'Train'</td>\n",
       "      <td>b'Andrew'</td>\n",
       "      <td>b'Male'</td>\n",
       "      <td>-3.327</td>\n",
       "      <td>0.496</td>\n",
       "      <td>-0.694</td>\n",
       "      <td>1.365</td>\n",
       "      <td>-0.265</td>\n",
       "      <td>1.933</td>\n",
       "      <td>-0.363</td>\n",
       "      <td>0.510</td>\n",
       "      <td>-0.621</td>\n",
       "      <td>-0.488</td>\n",
       "      <td>b'hId'</td>\n",
       "    </tr>\n",
       "    <tr>\n",
       "      <th>2</th>\n",
       "      <td>b'Train'</td>\n",
       "      <td>b'Andrew'</td>\n",
       "      <td>b'Male'</td>\n",
       "      <td>-2.120</td>\n",
       "      <td>0.894</td>\n",
       "      <td>-1.576</td>\n",
       "      <td>0.147</td>\n",
       "      <td>-0.707</td>\n",
       "      <td>1.559</td>\n",
       "      <td>-0.579</td>\n",
       "      <td>0.676</td>\n",
       "      <td>-0.809</td>\n",
       "      <td>-0.049</td>\n",
       "      <td>b'hEd'</td>\n",
       "    </tr>\n",
       "    <tr>\n",
       "      <th>3</th>\n",
       "      <td>b'Train'</td>\n",
       "      <td>b'Andrew'</td>\n",
       "      <td>b'Male'</td>\n",
       "      <td>-2.287</td>\n",
       "      <td>1.809</td>\n",
       "      <td>-1.498</td>\n",
       "      <td>1.012</td>\n",
       "      <td>-1.053</td>\n",
       "      <td>1.060</td>\n",
       "      <td>-0.567</td>\n",
       "      <td>0.235</td>\n",
       "      <td>-0.091</td>\n",
       "      <td>-0.795</td>\n",
       "      <td>b'hAd'</td>\n",
       "    </tr>\n",
       "    <tr>\n",
       "      <th>4</th>\n",
       "      <td>b'Train'</td>\n",
       "      <td>b'Andrew'</td>\n",
       "      <td>b'Male'</td>\n",
       "      <td>-2.598</td>\n",
       "      <td>1.938</td>\n",
       "      <td>-0.846</td>\n",
       "      <td>1.062</td>\n",
       "      <td>-1.633</td>\n",
       "      <td>0.764</td>\n",
       "      <td>0.394</td>\n",
       "      <td>-0.150</td>\n",
       "      <td>0.277</td>\n",
       "      <td>-0.396</td>\n",
       "      <td>b'hYd'</td>\n",
       "    </tr>\n",
       "    <tr>\n",
       "      <th>...</th>\n",
       "      <td>...</td>\n",
       "      <td>...</td>\n",
       "      <td>...</td>\n",
       "      <td>...</td>\n",
       "      <td>...</td>\n",
       "      <td>...</td>\n",
       "      <td>...</td>\n",
       "      <td>...</td>\n",
       "      <td>...</td>\n",
       "      <td>...</td>\n",
       "      <td>...</td>\n",
       "      <td>...</td>\n",
       "      <td>...</td>\n",
       "      <td>...</td>\n",
       "    </tr>\n",
       "    <tr>\n",
       "      <th>985</th>\n",
       "      <td>b'Test'</td>\n",
       "      <td>b'Wendy'</td>\n",
       "      <td>b'Female'</td>\n",
       "      <td>-3.239</td>\n",
       "      <td>3.083</td>\n",
       "      <td>-1.427</td>\n",
       "      <td>-0.202</td>\n",
       "      <td>-0.282</td>\n",
       "      <td>1.421</td>\n",
       "      <td>0.576</td>\n",
       "      <td>0.068</td>\n",
       "      <td>-0.914</td>\n",
       "      <td>0.147</td>\n",
       "      <td>b'hOd'</td>\n",
       "    </tr>\n",
       "    <tr>\n",
       "      <th>986</th>\n",
       "      <td>b'Test'</td>\n",
       "      <td>b'Wendy'</td>\n",
       "      <td>b'Female'</td>\n",
       "      <td>-3.753</td>\n",
       "      <td>3.605</td>\n",
       "      <td>-0.899</td>\n",
       "      <td>-0.747</td>\n",
       "      <td>-0.401</td>\n",
       "      <td>1.765</td>\n",
       "      <td>0.620</td>\n",
       "      <td>0.754</td>\n",
       "      <td>-0.835</td>\n",
       "      <td>-0.301</td>\n",
       "      <td>b'hod'</td>\n",
       "    </tr>\n",
       "    <tr>\n",
       "      <th>987</th>\n",
       "      <td>b'Test'</td>\n",
       "      <td>b'Wendy'</td>\n",
       "      <td>b'Female'</td>\n",
       "      <td>-3.980</td>\n",
       "      <td>2.459</td>\n",
       "      <td>0.068</td>\n",
       "      <td>0.023</td>\n",
       "      <td>0.237</td>\n",
       "      <td>1.029</td>\n",
       "      <td>-0.189</td>\n",
       "      <td>0.521</td>\n",
       "      <td>-0.773</td>\n",
       "      <td>-0.500</td>\n",
       "      <td>b'hUd'</td>\n",
       "    </tr>\n",
       "    <tr>\n",
       "      <th>988</th>\n",
       "      <td>b'Test'</td>\n",
       "      <td>b'Wendy'</td>\n",
       "      <td>b'Female'</td>\n",
       "      <td>-4.264</td>\n",
       "      <td>2.925</td>\n",
       "      <td>0.065</td>\n",
       "      <td>0.794</td>\n",
       "      <td>0.323</td>\n",
       "      <td>0.515</td>\n",
       "      <td>-1.282</td>\n",
       "      <td>-0.140</td>\n",
       "      <td>-0.863</td>\n",
       "      <td>-0.390</td>\n",
       "      <td>b'hud'</td>\n",
       "    </tr>\n",
       "    <tr>\n",
       "      <th>989</th>\n",
       "      <td>b'Test'</td>\n",
       "      <td>b'Wendy'</td>\n",
       "      <td>b'Female'</td>\n",
       "      <td>-3.291</td>\n",
       "      <td>2.324</td>\n",
       "      <td>-0.679</td>\n",
       "      <td>0.285</td>\n",
       "      <td>0.441</td>\n",
       "      <td>0.557</td>\n",
       "      <td>-0.227</td>\n",
       "      <td>0.115</td>\n",
       "      <td>-1.046</td>\n",
       "      <td>0.697</td>\n",
       "      <td>b'hed'</td>\n",
       "    </tr>\n",
       "  </tbody>\n",
       "</table>\n",
       "<p>990 rows × 14 columns</p>\n",
       "</div>"
      ],
      "text/plain": [
       "    Train or Test Speaker Number        Sex  Feature 0  Feature 1  Feature 2  \\\n",
       "0        b'Train'      b'Andrew'    b'Male'     -3.639      0.418     -0.670   \n",
       "1        b'Train'      b'Andrew'    b'Male'     -3.327      0.496     -0.694   \n",
       "2        b'Train'      b'Andrew'    b'Male'     -2.120      0.894     -1.576   \n",
       "3        b'Train'      b'Andrew'    b'Male'     -2.287      1.809     -1.498   \n",
       "4        b'Train'      b'Andrew'    b'Male'     -2.598      1.938     -0.846   \n",
       "..            ...            ...        ...        ...        ...        ...   \n",
       "985       b'Test'       b'Wendy'  b'Female'     -3.239      3.083     -1.427   \n",
       "986       b'Test'       b'Wendy'  b'Female'     -3.753      3.605     -0.899   \n",
       "987       b'Test'       b'Wendy'  b'Female'     -3.980      2.459      0.068   \n",
       "988       b'Test'       b'Wendy'  b'Female'     -4.264      2.925      0.065   \n",
       "989       b'Test'       b'Wendy'  b'Female'     -3.291      2.324     -0.679   \n",
       "\n",
       "     Feature 3  Feature 4  Feature 5  Feature 6  Feature 7  Feature 8  \\\n",
       "0        1.779     -0.168      1.627     -0.388      0.529     -0.874   \n",
       "1        1.365     -0.265      1.933     -0.363      0.510     -0.621   \n",
       "2        0.147     -0.707      1.559     -0.579      0.676     -0.809   \n",
       "3        1.012     -1.053      1.060     -0.567      0.235     -0.091   \n",
       "4        1.062     -1.633      0.764      0.394     -0.150      0.277   \n",
       "..         ...        ...        ...        ...        ...        ...   \n",
       "985     -0.202     -0.282      1.421      0.576      0.068     -0.914   \n",
       "986     -0.747     -0.401      1.765      0.620      0.754     -0.835   \n",
       "987      0.023      0.237      1.029     -0.189      0.521     -0.773   \n",
       "988      0.794      0.323      0.515     -1.282     -0.140     -0.863   \n",
       "989      0.285      0.441      0.557     -0.227      0.115     -1.046   \n",
       "\n",
       "     Feature 9   Class  \n",
       "0       -0.814  b'hid'  \n",
       "1       -0.488  b'hId'  \n",
       "2       -0.049  b'hEd'  \n",
       "3       -0.795  b'hAd'  \n",
       "4       -0.396  b'hYd'  \n",
       "..         ...     ...  \n",
       "985      0.147  b'hOd'  \n",
       "986     -0.301  b'hod'  \n",
       "987     -0.500  b'hUd'  \n",
       "988     -0.390  b'hud'  \n",
       "989      0.697  b'hed'  \n",
       "\n",
       "[990 rows x 14 columns]"
      ]
     },
     "execution_count": 18,
     "metadata": {},
     "output_type": "execute_result"
    }
   ],
   "source": [
    "data = arff.loadarff(\"vowel.arff\")\n",
    "df = pd.DataFrame(data[0])\n",
    "df"
   ]
  },
  {
   "cell_type": "code",
   "execution_count": 19,
   "metadata": {},
   "outputs": [],
   "source": [
    "classes = dict()\n",
    "for i, Class in enumerate(set(df['Class'])):\n",
    "    classes[Class] = i"
   ]
  },
  {
   "cell_type": "code",
   "execution_count": 20,
   "metadata": {},
   "outputs": [
    {
     "data": {
      "text/plain": [
       "{b'hod': 0,\n",
       " b'hUd': 1,\n",
       " b'hYd': 2,\n",
       " b'hId': 3,\n",
       " b'hud': 4,\n",
       " b'hEd': 5,\n",
       " b'had': 6,\n",
       " b'hOd': 7,\n",
       " b'hed': 8,\n",
       " b'hid': 9,\n",
       " b'hAd': 10}"
      ]
     },
     "execution_count": 20,
     "metadata": {},
     "output_type": "execute_result"
    }
   ],
   "source": [
    "classes"
   ]
  },
  {
   "cell_type": "code",
   "execution_count": 21,
   "metadata": {
    "scrolled": true
   },
   "outputs": [
    {
     "data": {
      "text/plain": [
       "array([[0., 0., 0., ..., 0., 1., 0.],\n",
       "       [0., 0., 0., ..., 0., 0., 0.],\n",
       "       [0., 0., 0., ..., 0., 0., 0.],\n",
       "       ...,\n",
       "       [0., 1., 0., ..., 0., 0., 0.],\n",
       "       [0., 0., 0., ..., 0., 0., 0.],\n",
       "       [0., 0., 0., ..., 1., 0., 0.]])"
      ]
     },
     "execution_count": 21,
     "metadata": {},
     "output_type": "execute_result"
    }
   ],
   "source": [
    "targets = np.zeros((990,len(classes)))\n",
    "for i in range(990):\n",
    "    #index is \n",
    "    index = classes[df['Class'][i]]\n",
    "    targets[i][index] = 1\n",
    "targets"
   ]
  },
  {
   "cell_type": "code",
   "execution_count": 22,
   "metadata": {},
   "outputs": [],
   "source": [
    "def DecodeS(sex):\n",
    "    \"\"\"decode sex as 0 if Male, 1 if Female\"\"\"\n",
    "    if sex == b'Male': return 0\n",
    "    else: return 1\n",
    "\n",
    "#reading inputs\n",
    "Vowels = []\n",
    "for i in range(990):\n",
    "    xi = [DecodeS(df['Sex'][i]),df['Feature 0'][i],df['Feature 1'][i],df['Feature 2'][i],df['Feature 3'][i],df['Feature 4'][i],df['Feature 5'][i],\n",
    "         df['Feature 6'][i],df['Feature 7'][i],df['Feature 8'][i],df['Feature 9'][i]]\n",
    "    Vowels.append(xi)\n",
    "Vowels = np.array(Vowels)"
   ]
  },
  {
   "cell_type": "code",
   "execution_count": 23,
   "metadata": {},
   "outputs": [],
   "source": [
    "#shuffling data for 80/20 split\n",
    "inds = np.arange(0,990,1)\n",
    "np.random.shuffle(inds)\n",
    "Vowels = Vowels[inds]\n",
    "targets = targets[inds]\n",
    "\n",
    "#setting apart training and testing\n",
    "VowelsTrain = Vowels[:792]\n",
    "VowelsTest  = Vowels[792:]\n",
    "targetsTrain= targets[:792]\n",
    "targetsTest = targets[792:]"
   ]
  },
  {
   "cell_type": "code",
   "execution_count": 24,
   "metadata": {},
   "outputs": [],
   "source": [
    "#make an initial MLP with lr = 0.1 and HLW twice the number of inputs\n",
    "vM = MLP(lr=0.1,hidden_layer_widths=[22],determ=False,validate=True)"
   ]
  },
  {
   "cell_type": "code",
   "execution_count": 25,
   "metadata": {},
   "outputs": [
    {
     "name": "stdout",
     "output_type": "stream",
     "text": [
      "next fit starting\n",
      "MSE converging, breaking\n",
      "\n"
     ]
    },
    {
     "data": {
      "text/plain": [
       "MLP(determ=False, hidden_layer_widths=[22], validate=True)"
      ]
     },
     "execution_count": 25,
     "metadata": {},
     "output_type": "execute_result"
    }
   ],
   "source": [
    "#fitting to train data\n",
    "vM.fit(VowelsTrain,targetsTrain,Cap=100,threshold=0.0015)"
   ]
  },
  {
   "cell_type": "code",
   "execution_count": 26,
   "metadata": {},
   "outputs": [
    {
     "data": {
      "image/png": "[encoded data removed]",
      "text/plain": [
       "<Figure size 1440x720 with 1 Axes>"
      ]
     },
     "metadata": {
      "needs_background": "light"
     },
     "output_type": "display_data"
    }
   ],
   "source": [
    "plt.rcParams[\"figure.figsize\"] = (20,10)\n",
    "plt.plot(np.arange(1,len(vM.vScores)+1,1),vM.vScores,'r')\n",
    "plt.xlabel(\"Epoch\")\n",
    "plt.ylabel(\"Score\")\n",
    "plt.title(str(vM))\n",
    "plt.show()"
   ]
  },
  {
   "cell_type": "code",
   "execution_count": 27,
   "metadata": {},
   "outputs": [
    {
     "data": {
      "text/plain": [
       "0.6717171717171717"
      ]
     },
     "execution_count": 27,
     "metadata": {},
     "output_type": "execute_result"
    }
   ],
   "source": [
    "#general accuracy of MLP on test set\n",
    "vM.score(VowelsTest,targetsTest)"
   ]
  },
  {
   "cell_type": "code",
   "execution_count": 29,
   "metadata": {},
   "outputs": [
    {
     "data": {
      "image/png": "[encoded data removed]",
      "text/plain": [
       "<Figure size 1440x720 with 1 Axes>"
      ]
     },
     "metadata": {
      "needs_background": "light"
     },
     "output_type": "display_data"
    }
   ],
   "source": [
    "plt.plot(np.arange(1,len(vM.MSEs)+1,1),vM.MSEs,'g')\n",
    "plt.xlabel(\"Epoch\")\n",
    "plt.ylabel(\"MSE\")\n",
    "plt.title(str(vM))\n",
    "plt.show()"
   ]
  },
  {
   "cell_type": "code",
   "execution_count": 30,
   "metadata": {},
   "outputs": [],
   "source": [
    "#Creating nodes of different learning rates\n",
    "vM0 = MLP(lr=0.01,hidden_layer_widths=[22],determ=False,validate=True)\n",
    "vM1 = MLP(lr=0.32,hidden_layer_widths=[22],determ=False,validate=True)\n",
    "vM2 = MLP(lr=0.63,hidden_layer_widths=[22],determ=False,validate=True)\n",
    "vM3 = MLP(lr=0.94,hidden_layer_widths=[22],determ=False,validate=True)\n",
    "vM4 = MLP(lr=1.25,hidden_layer_widths=[22],determ=False,validate=True)"
   ]
  },
  {
   "cell_type": "code",
   "execution_count": 31,
   "metadata": {
    "id": "KBGUn43ASiXW",
    "scrolled": true
   },
   "outputs": [
    {
     "name": "stdout",
     "output_type": "stream",
     "text": [
      "next fit starting\n",
      "MSE converging, breaking\n",
      "\n",
      "next fit starting\n",
      "MSE converging, breaking\n",
      "\n",
      "next fit starting\n",
      "MSE converging, breaking\n",
      "\n",
      "next fit starting\n",
      "cap reached, breaking\n",
      "\n",
      "next fit starting\n",
      "MSE worsening, breaking\n",
      "\n"
     ]
    }
   ],
   "source": [
    "# Train on each dataset\n",
    "for VM in [vM0,vM1,vM2,vM3,vM4]:\n",
    "    VM.fit(VowelsTrain,targetsTrain,Cap=80,threshold=0.005)"
   ]
  },
  {
   "cell_type": "code",
   "execution_count": 32,
   "metadata": {},
   "outputs": [
    {
     "data": {
      "text/plain": [
       "0.6717171717171717"
      ]
     },
     "execution_count": 32,
     "metadata": {},
     "output_type": "execute_result"
    }
   ],
   "source": [
    "#score for lr=0.1\n",
    "vM.score(VowelsTest,targetsTest)"
   ]
  },
  {
   "cell_type": "code",
   "execution_count": 33,
   "metadata": {},
   "outputs": [
    {
     "data": {
      "text/plain": [
       "0.21717171717171718"
      ]
     },
     "execution_count": 33,
     "metadata": {},
     "output_type": "execute_result"
    }
   ],
   "source": [
    "#score for lr=0.01\n",
    "vM0.score(VowelsTest,targetsTest)"
   ]
  },
  {
   "cell_type": "code",
   "execution_count": 34,
   "metadata": {},
   "outputs": [
    {
     "data": {
      "text/plain": [
       "0.6111111111111112"
      ]
     },
     "execution_count": 34,
     "metadata": {},
     "output_type": "execute_result"
    }
   ],
   "source": [
    "#score for lr=0.32\n",
    "vM1.score(VowelsTest,targetsTest)"
   ]
  },
  {
   "cell_type": "code",
   "execution_count": 35,
   "metadata": {},
   "outputs": [
    {
     "data": {
      "text/plain": [
       "0.7575757575757576"
      ]
     },
     "execution_count": 35,
     "metadata": {},
     "output_type": "execute_result"
    }
   ],
   "source": [
    "#score for lr=0.63\n",
    "vM2.score(VowelsTest,targetsTest)"
   ]
  },
  {
   "cell_type": "code",
   "execution_count": 36,
   "metadata": {},
   "outputs": [
    {
     "data": {
      "text/plain": [
       "0.7424242424242424"
      ]
     },
     "execution_count": 36,
     "metadata": {},
     "output_type": "execute_result"
    }
   ],
   "source": [
    "#score for lr=0.94\n",
    "vM3.score(VowelsTest,targetsTest)"
   ]
  },
  {
   "cell_type": "code",
   "execution_count": 37,
   "metadata": {},
   "outputs": [
    {
     "data": {
      "text/plain": [
       "0.7272727272727273"
      ]
     },
     "execution_count": 37,
     "metadata": {},
     "output_type": "execute_result"
    }
   ],
   "source": [
    "#score for lr=1.25\n",
    "vM4.score(VowelsTest,targetsTest)\n",
    "\n",
    "#NOTE: Even though this one has a greater accuracy on the test set, its MSE is greater on the validation (see below),\n",
    "#its MSE is more unstable, and it takes longer to train"
   ]
  },
  {
   "cell_type": "code",
   "execution_count": 38,
   "metadata": {},
   "outputs": [
    {
     "data": {
      "image/png": "[encoded data removed]",
      "text/plain": [
       "<Figure size 1440x720 with 1 Axes>"
      ]
     },
     "metadata": {
      "needs_background": "light"
     },
     "output_type": "display_data"
    }
   ],
   "source": [
    "#plotting mse value for each MLP\n",
    "for VM in [vM0,vM,vM1,vM2,vM3,vM4]:\n",
    "    plt.plot(np.arange(1,len(VM.MSEs)+1,1),VM.MSEs,label=str(VM.lr))\n",
    "plt.legend()\n",
    "plt.xlabel(\"Epoch\")\n",
    "plt.ylabel(\"MSE\")\n",
    "plt.title(\"MSEs of different learning rate MLPs\")\n",
    "plt.show()"
   ]
  },
  {
   "cell_type": "markdown",
   "metadata": {
    "id": "mOteTlV6S0bq"
   },
   "source": [
    "## 3.1 (5%) Working with the Vowel Dataset - Intuition\n",
    "- Discuss the effect of varying learning rates. \n",
    "- Discuss why the vowel data set might be more difficult than Iris\n",
    "    - Report both datasets' baseline accuracies and best **test** set accuracies. \n",
    "- Consider which of the vowel dataset's given input features you should actually use (Train/test, speaker, gender, ect) and discuss why you chose the ones you did.\n",
    "\n",
    "Typical backpropagation accuracies for the Vowel data set are above 75%.\n",
    "\n"
   ]
  },
  {
   "cell_type": "code",
   "execution_count": 39,
   "metadata": {},
   "outputs": [
    {
     "name": "stdout",
     "output_type": "stream",
     "text": [
      "next fit starting\n",
      "next fit starting\n",
      "baseline accuracy of iris = 0.6666666666666666\n",
      "baseline accuracy of vowels = 0.04040404040404041\n"
     ]
    }
   ],
   "source": [
    "#creating two different MLPs to calc baseline accuracies of both\n",
    "baseIris  = MLP(lr=0.1,hidden_layer_widths=[8],determ=False,validate=True)\n",
    "baseVowel = MLP(lr=0.1,hidden_layer_widths=[22],determ=False,validate=True)\n",
    "\n",
    "#calling fit just to make the nodes, but not actually fitting\n",
    "baseIris.fit(FlowersTest,FtargetsTest,dontFit=True)\n",
    "baseVowel.fit(VowelsTest,targetsTest,dontFit=True)\n",
    "\n",
    "#getting baseline accuracies\n",
    "score1 = baseIris.score(FlowersTest,FtargetsTest)\n",
    "score2 = baseVowel.score(VowelsTest,targetsTest)\n",
    "\n",
    "#printing results\n",
    "print('baseline accuracy of iris =',score1)\n",
    "print('baseline accuracy of vowels =',score2)"
   ]
  },
  {
   "cell_type": "markdown",
   "metadata": {
    "id": "qmq9GSbJS8k2"
   },
   "source": [
    "Varying the learning rate led to the quickest convergence with the greatest accuracy being found at lr=0.63. Other lower learning rates converged faster but with lower accuracy. Higher learning rates took much longer to converge and still were not as consistently accurate as 0.64.\n",
    "\n",
    "The vowel set may be more difficult to deal with than Iris because it has a greater number of inputs (990 in total), so there are many more calculations to be done, and there are a greater number of features, magnifying the strain from the extra inputs.\n",
    "\n",
    "I chose not to include the Train/Test class nor the Speaker Numbers (their names) because the former is meaningless to our data set, so using it to predict anything is pointless, and the speaker names were not used because all the data they would provide is completely encompassed by the other features. Being named \"Andrew\" does not make anyone unique."
   ]
  },
  {
   "cell_type": "markdown",
   "metadata": {
    "id": "SIRG42TgSR4x"
   },
   "source": [
    "## 3.2 (10%) Working with the Vowel Dataset - Hidden Layer Nodes\n",
    "\n",
    "Using the best LR you discovered, experiment with different numbers of hidden nodes.\n",
    "\n",
    "- Start with 1 hidden node, then 2, and then double them for each test until you get no more improvement in accuracy. \n",
    "- For each number of hidden nodes find the best validation set solution (in terms of validation set MSE).  \n",
    "- Create one graph with MSE for the training set and validation set on the y-axis and # of hidden nodes on the x-axis.\n",
    "- Report the final test set accuracy for every # of hidden nodes you experimented on"
   ]
  },
  {
   "cell_type": "code",
   "execution_count": 40,
   "metadata": {},
   "outputs": [
    {
     "name": "stdout",
     "output_type": "stream",
     "text": [
      "0\n",
      "next fit starting\n",
      "MSE converging, breaking\n",
      "\n",
      "score = 0.1717171717171717 scores[k] = 0\n",
      "1\n",
      "next fit starting\n",
      "MSE converging, breaking\n",
      "\n",
      "score = 0.14646464646464646 scores[k] = 0.1717171717171717\n"
     ]
    }
   ],
   "source": [
    "#best lr for me was 0.63\n",
    "#make lists to hold scores\n",
    "group_mses = []\n",
    "scores = [0]\n",
    "\n",
    "k = 0\n",
    "while True:\n",
    "    #print log_2 of the hidden layer width\n",
    "    print(k)\n",
    "    \n",
    "    #create MLP object with best lr, with a power of 2 hidden nodes; fit\n",
    "    vm = MLP(lr=0.63,hidden_layer_widths=[2**k],determ=False,validate=True)\n",
    "    vm.fit(VowelsTrain,targetsTrain,threshold=0.005)\n",
    "    \n",
    "    #record scores\n",
    "    group_mses.append(vm.MSEs)\n",
    "    score = vm.score(VowelsTest,targetsTest)\n",
    "    scores.append(score)\n",
    "    #print score and previous score\n",
    "    print('score =',score,'scores[k] =',scores[k])\n",
    "    \n",
    "    #if score decreases, break\n",
    "    if score < scores[k]: break\n",
    "\n",
    "    #inc k\n",
    "    k += 1"
   ]
  },
  {
   "cell_type": "code",
   "execution_count": 41,
   "metadata": {},
   "outputs": [
    {
     "data": {
      "text/plain": [
       "[0.07383273184619846, 0.07697476342249439]"
      ]
     },
     "execution_count": 41,
     "metadata": {},
     "output_type": "execute_result"
    }
   ],
   "source": [
    "#getting final MSE values for each for plotting purposes\n",
    "to_plot_mse = [group[-1] for group in group_mses]\n",
    "to_plot_mse"
   ]
  },
  {
   "cell_type": "code",
   "execution_count": 44,
   "metadata": {},
   "outputs": [
    {
     "data": {
      "image/png": "[encoded data removed]",
      "text/plain": [
       "<Figure size 1440x720 with 1 Axes>"
      ]
     },
     "metadata": {
      "needs_background": "light"
     },
     "output_type": "display_data"
    }
   ],
   "source": [
    "#plotting MSE vs HLW\n",
    "HLWs = [1,2]\n",
    "plt.plot(HLWs,to_plot_mse)\n",
    "plt.scatter(HLWs,to_plot_mse,color='r')\n",
    "plt.xticks(HLWs,HLWs)\n",
    "plt.xlabel(\"Hidden Layer Widths\")\n",
    "plt.ylabel(\"MSE\")\n",
    "plt.title(\"MSE vs. HLW\")\n",
    "plt.show()"
   ]
  },
  {
   "cell_type": "code",
   "execution_count": 45,
   "metadata": {},
   "outputs": [
    {
     "data": {
      "image/png": "[encoded data removed]",
      "text/plain": [
       "<Figure size 1440x720 with 1 Axes>"
      ]
     },
     "metadata": {
      "needs_background": "light"
     },
     "output_type": "display_data"
    }
   ],
   "source": [
    "#plotting MSE vs Epochs for my own... enjoyment?\n",
    "for i,group in enumerate(group_mses):\n",
    "    plt.plot( np.arange(1, len(group)+1), group, label = 'HLW = '+str(2**i)    )\n",
    "plt.legend()\n",
    "plt.xlabel(\"Epoch\")\n",
    "plt.ylabel(\"MSE\")\n",
    "plt.title(\"MSE vs. Epoch for Different HLW Values\")\n",
    "plt.show()"
   ]
  },
  {
   "cell_type": "markdown",
   "metadata": {
    "id": "qmq9GSbJS8k2"
   },
   "source": [
    "The best accuracy for the number of hidden nodes (sans bias) is with 64 nodes. It allows for the most amount of accurate information processing without overfitting than 128 nodes, and is simply vastly more accurate than with fewer nodes."
   ]
  },
  {
   "cell_type": "markdown",
   "metadata": {
    "id": "SIRG42TgSR4x"
   },
   "source": [
    "## 3.3 (10%) Working with the Vowel Dataset - Momentum\n",
    "\n",
    "Try some different momentum terms using the best number of hidden nodes and LR from your earlier experiments.\n",
    "\n",
    "- Create a graph similar to step 3.2, but with momentum on the x-axis and number of epochs until validation set convergence on the y-axis.\n",
    "- For each momentum term, print the test set accuracy. \n",
    "- You are trying to see how much momentum speeds up learning and how it affects accuracy."
   ]
  },
  {
   "cell_type": "code",
   "execution_count": 46,
   "metadata": {},
   "outputs": [
    {
     "name": "stdout",
     "output_type": "stream",
     "text": [
      "1\n",
      "next fit starting\n",
      "MSE converging, breaking\n",
      "\n",
      "score = 0.6868686868686869 scores[k-1] = 0\n",
      "2\n",
      "next fit starting\n",
      "MSE converging, breaking\n",
      "\n",
      "score = 0.5454545454545454 scores[k-1] = 0.6868686868686869\n",
      "3\n",
      "next fit starting\n",
      "MSE worsening, breaking\n",
      "\n",
      "score = 0.5808080808080808 scores[k-1] = 0.5454545454545454\n",
      "4\n",
      "next fit starting\n",
      "MSE converging, breaking\n",
      "\n",
      "score = 0.12626262626262627 scores[k-1] = 0.5808080808080808\n",
      "5\n",
      "next fit starting\n",
      "MSE converging, breaking\n",
      "\n",
      "score = 0.050505050505050504 scores[k-1] = 0.12626262626262627\n"
     ]
    }
   ],
   "source": [
    "#best lr for me was 0.63 and best HLW was 64\n",
    "#make lists to hold scores\n",
    "Mom_mses = []\n",
    "Mom_scores = [0]\n",
    "Mom_epochs = []\n",
    "\n",
    "for k in range(1,6):\n",
    "    #print k\n",
    "    print(k)\n",
    "    \n",
    "    #make MLP object with best lr and hidden layer width; make momentum k/4\n",
    "    vm = MLP(lr=0.63,momentum=(0.175*k),hidden_layer_widths=[64],determ=False,validate=True)\n",
    "    vm.fit(VowelsTrain,targetsTrain,threshold=0.01)\n",
    "    \n",
    "    #record scores and itrs\n",
    "    Mom_epochs.append(vm.itrs)\n",
    "    Mom_mses.append(vm.MSEs)\n",
    "    Mom_score = vm.score(VowelsTest,targetsTest)\n",
    "    Mom_scores.append(Mom_score)\n",
    "    \n",
    "    #print score\n",
    "    print('score =',Mom_score,'scores[k-1] =',Mom_scores[k-1])"
   ]
  },
  {
   "cell_type": "code",
   "execution_count": 47,
   "metadata": {},
   "outputs": [
    {
     "name": "stdout",
     "output_type": "stream",
     "text": [
      "next fit starting\n",
      "MSE converging, breaking\n",
      "\n"
     ]
    },
    {
     "data": {
      "text/plain": [
       "MLP(determ=False, hidden_layer_widths=[64], lr=0.63, validate=True)"
      ]
     },
     "execution_count": 47,
     "metadata": {},
     "output_type": "execute_result"
    }
   ],
   "source": [
    "#running it for momentum 0 because I didn't put it in up there and I don't want to rerun the whole thing\n",
    "vm = MLP(lr=0.63,momentum=0,hidden_layer_widths=[64],determ=False,validate=True)\n",
    "vm.fit(VowelsTrain,targetsTrain,threshold=0.01)"
   ]
  },
  {
   "cell_type": "code",
   "execution_count": 48,
   "metadata": {},
   "outputs": [
    {
     "data": {
      "text/plain": [
       "0.6666666666666666"
      ]
     },
     "execution_count": 48,
     "metadata": {},
     "output_type": "execute_result"
    }
   ],
   "source": [
    "#showing the score for this fit\n",
    "vm.score(VowelsTest,targetsTest)"
   ]
  },
  {
   "cell_type": "code",
   "execution_count": 49,
   "metadata": {},
   "outputs": [],
   "source": [
    "#inserting 0 momentum's epoch number\n",
    "Mom_epochs.insert(0,vm.itrs)"
   ]
  },
  {
   "cell_type": "code",
   "execution_count": 50,
   "metadata": {},
   "outputs": [
    {
     "data": {
      "image/png": "[encoded data removed]",
      "text/plain": [
       "<Figure size 1440x720 with 1 Axes>"
      ]
     },
     "metadata": {
      "needs_background": "light"
     },
     "output_type": "display_data"
    }
   ],
   "source": [
    "#plotting the epochs vs momentum\n",
    "plt.plot(np.arange(0,1.0,0.175),Mom_epochs)\n",
    "plt.scatter(np.arange(0,1.0,0.175),Mom_epochs,color='r')\n",
    "plt.xlabel(\"Momentum\")\n",
    "plt.ylabel(\"Epochs\")\n",
    "plt.title(\"Epochs vs Momentum\")\n",
    "plt.xticks(np.arange(0,1.0,0.175),np.arange(0,1.0,0.175))\n",
    "plt.show()"
   ]
  },
  {
   "cell_type": "markdown",
   "metadata": {
    "id": "qmq9GSbJS8k2"
   },
   "source": [
    "The momentum did not consistently make the number of epochs needed to converge smaller. Given how I coded it, the minimum it could be is 12, which is the value of the horizontal portions of this graph. It is likely that for momentum 0.35, the minimum that was being targeted was overshot a few times; its number of epochs is twice that of the others. However, the momentum does seem to make the convergence quicker for all the others. However, all the scores are lower than when momentum is 0, and this is likely due to overshooting the true minimums."
   ]
  },
  {
   "cell_type": "markdown",
   "metadata": {
    "id": "oBBmeNQ7jvcQ"
   },
   "source": [
    "## 4.1 (10%) Use the scikit-learn (SK) version of the MLP classifier on the Iris and Vowel data sets.  \n",
    "\n",
    "You do not need to go through all the steps above, nor graph results. Compare results (accuracy and learning speed) between your version and theirs for some selection of hyper-parameters. Try different hyper-parameters and comment on their effect.\n",
    "\n",
    "At a minimum, try\n",
    "\n",
    "- number of hidden nodes and layers\n",
    "- different activation functions\n",
    "- learning rate\n",
    "- regularization and parameters\n",
    "- momentum (and try nesterov)\n",
    "- early stopping"
   ]
  },
  {
   "cell_type": "code",
   "execution_count": 51,
   "metadata": {
    "id": "OFQv70W2VyqJ"
   },
   "outputs": [
    {
     "data": {
      "text/plain": [
       "MLPClassifier(hidden_layer_sizes=22, learning_rate_init=0.1)"
      ]
     },
     "execution_count": 51,
     "metadata": {},
     "output_type": "execute_result"
    }
   ],
   "source": [
    "# Load sklearn MLPClassifier\n",
    "ScM1 = MLPClassifier(hidden_layer_sizes=(64),activation='logistic',learning_rate_init=0.63)\n",
    "ScM2 = MLPClassifier(hidden_layer_sizes=(64),activation='logistic',learning_rate_init=0.1)\n",
    "ScM3 = MLPClassifier(hidden_layer_sizes=(64),activation='relu',learning_rate_init=0.1)\n",
    "ScM4 = MLPClassifier(hidden_layer_sizes=(64),activation='relu',learning_rate_init=0.1,nesterovs_momentum=False)\n",
    "ScM5 = MLPClassifier(hidden_layer_sizes=(22),activation='relu',learning_rate_init=0.1)\n",
    "\n",
    "# Train on vowels\n",
    "ScM1.fit(VowelsTrain,targetsTrain)\n",
    "ScM2.fit(VowelsTrain,targetsTrain)\n",
    "ScM3.fit(VowelsTrain,targetsTrain)\n",
    "ScM4.fit(VowelsTrain,targetsTrain)\n",
    "ScM5.fit(VowelsTrain,targetsTrain)"
   ]
  },
  {
   "cell_type": "code",
   "execution_count": 52,
   "metadata": {},
   "outputs": [
    {
     "name": "stdout",
     "output_type": "stream",
     "text": [
      "ScM1  score = 0.6060606060606061\n",
      "ScM2  score = 0.8535353535353535\n",
      "ScM3  score = 0.8333333333333334\n",
      "ScM4  score = 0.7777777777777778\n",
      "ScM5  score = 0.48484848484848486\n"
     ]
    }
   ],
   "source": [
    "#scoring each\n",
    "print(\"ScM1  score =\",ScM1.score(VowelsTest,targetsTest))\n",
    "print(\"ScM2  score =\",ScM2.score(VowelsTest,targetsTest))\n",
    "print(\"ScM3  score =\",ScM3.score(VowelsTest,targetsTest))\n",
    "print(\"ScM4  score =\",ScM4.score(VowelsTest,targetsTest))\n",
    "print(\"ScM5  score =\",ScM5.score(VowelsTest,targetsTest))"
   ]
  },
  {
   "cell_type": "code",
   "execution_count": 53,
   "metadata": {},
   "outputs": [
    {
     "data": {
      "text/plain": [
       "MLPClassifier(activation='logistic', hidden_layer_sizes=16,\n",
       "              learning_rate_init=0.1)"
      ]
     },
     "execution_count": 53,
     "metadata": {},
     "output_type": "execute_result"
    }
   ],
   "source": [
    "# Load sklearn MLPClassifier\n",
    "ScMi1 = MLPClassifier(hidden_layer_sizes=(4),activation='logistic',learning_rate_init=0.3)\n",
    "ScMi2 = MLPClassifier(hidden_layer_sizes=(8),activation='logistic',learning_rate_init=0.1)\n",
    "ScMi3 = MLPClassifier(hidden_layer_sizes=(8),activation='relu',learning_rate_init=0.1)\n",
    "ScMi4 = MLPClassifier(hidden_layer_sizes=(8),activation='relu',learning_rate_init=0.1,nesterovs_momentum=False)\n",
    "ScMi5 = MLPClassifier(hidden_layer_sizes=(8),activation='relu',learning_rate_init=0.1)\n",
    "ScMi6 = MLPClassifier(hidden_layer_sizes=(16),activation='logistic',learning_rate_init=0.1)\n",
    "\n",
    "# Train on flowers\n",
    "ScMi1.fit(FlowersTrain,FtargetsTrain)\n",
    "ScMi2.fit(FlowersTrain,FtargetsTrain)\n",
    "ScMi3.fit(FlowersTrain,FtargetsTrain)\n",
    "ScMi4.fit(FlowersTrain,FtargetsTrain)\n",
    "ScMi5.fit(FlowersTrain,FtargetsTrain)\n",
    "ScMi6.fit(FlowersTrain,FtargetsTrain)"
   ]
  },
  {
   "cell_type": "code",
   "execution_count": 54,
   "metadata": {},
   "outputs": [
    {
     "name": "stdout",
     "output_type": "stream",
     "text": [
      "ScMi1  score = 1.0\n",
      "ScMi2  score = 0.9833333333333333\n",
      "ScMi3  score = 0.9833333333333333\n",
      "ScMi4  score = 1.0\n",
      "ScMi5  score = 0.9833333333333333\n",
      "ScMi6  score = 0.9833333333333333\n"
     ]
    }
   ],
   "source": [
    "#scoring each\n",
    "print(\"ScMi1  score =\",ScMi1.score(FlowersTest,FtargetsTest))\n",
    "print(\"ScMi2  score =\",ScMi2.score(FlowersTest,FtargetsTest))\n",
    "print(\"ScMi3  score =\",ScMi3.score(FlowersTest,FtargetsTest))\n",
    "print(\"ScMi4  score =\",ScMi4.score(FlowersTest,FtargetsTest))\n",
    "print(\"ScMi5  score =\",ScMi5.score(FlowersTest,FtargetsTest))\n",
    "print(\"ScMi6  score =\",ScMi6.score(FlowersTest,FtargetsTest))"
   ]
  },
  {
   "cell_type": "markdown",
   "metadata": {
    "id": "BqSFAXwlk3Ms"
   },
   "source": [
    "Well, it is so much faster, which I'm jealous of. The scoring on the vowel data set definitely shows more variation depending on the hyperparameters. For my tests of it, having 64 nodes, lr=0.1, logistic, and nesterov momentum, the best score was attained. For Iris, since there is less variation in the data, it is more difficult to see how the hyperparameters affect the scoring. However it is clear that halving the number of nodes cripples accuracy regardless of learning rate (it's at its baseline accuracy), and all the other hyperparameters did not otherwise make any change on the accuracy. "
   ]
  },
  {
   "cell_type": "markdown",
   "metadata": {
    "id": "oBBmeNQ7jvcQ"
   },
   "source": [
    "## 4.2 (5%) Using the Iris Dataset automatically adjust hyper-parameters using your choice of grid/random search\n",
    "- Use a grid or random search approach across a reasonable subset of hyper-parameters from the above \n",
    "- Report your best accuracy and hyper-parameters. "
   ]
  },
  {
   "cell_type": "code",
   "execution_count": 55,
   "metadata": {
    "id": "OFQv70W2VyqJ"
   },
   "outputs": [],
   "source": [
    "# Load sklearn MLP and vary learning rates\n",
    "scores = []\n",
    "for i in range(1,100):\n",
    "    ScM = MLPClassifier(hidden_layer_sizes=(8),activation='logistic',learning_rate_init=i/100.)\n",
    "    ScM.fit(FlowersTrain,FtargetsTrain)\n",
    "    scores.append(ScM.score(FlowersTest,FtargetsTest))"
   ]
  },
  {
   "cell_type": "code",
   "execution_count": 56,
   "metadata": {},
   "outputs": [
    {
     "name": "stdout",
     "output_type": "stream",
     "text": [
      "The best score was found with a learning rate of 1 / 100\n"
     ]
    }
   ],
   "source": [
    "#reporting best learning rate\n",
    "print(\"The best score was found with a learning rate of\",np.argmax(scores)+1,'/ 100')"
   ]
  },
  {
   "cell_type": "code",
   "execution_count": 57,
   "metadata": {},
   "outputs": [],
   "source": [
    "# Load sklearn MLP with 1/50 lr and now vary HLW\n",
    "scores2 = []\n",
    "for i in range(1,100):\n",
    "    ScM = MLPClassifier(hidden_layer_sizes=(i),activation='logistic',learning_rate_init=1/50.)\n",
    "    ScM.fit(FlowersTrain,FtargetsTrain)\n",
    "    scores2.append(ScM.score(FlowersTest,FtargetsTest))"
   ]
  },
  {
   "cell_type": "code",
   "execution_count": 58,
   "metadata": {},
   "outputs": [
    {
     "name": "stdout",
     "output_type": "stream",
     "text": [
      "The best score was found with a hidden layer size of 4\n"
     ]
    }
   ],
   "source": [
    "#reporting best HLW\n",
    "print(\"The best score was found with a hidden layer size of\",np.argmax(scores2)+1)"
   ]
  },
  {
   "cell_type": "markdown",
   "metadata": {},
   "source": [
    "It appears that when using logistic activation and the other defaults, the best scoring for the iris data set comes from a hidden layer size of 7 and learning rate of 0.02"
   ]
  }
 ],
 "metadata": {
  "colab": {
   "collapsed_sections": [],
   "name": "lab 1 - perceptron",
   "provenance": []
  },
  "kernelspec": {
   "display_name": "Python 3",
   "language": "python",
   "name": "python3"
  },
  "language_info": {
   "codemirror_mode": {
    "name": "ipython",
    "version": 3
   },
   "file_extension": ".py",
   "mimetype": "text/x-python",
   "name": "python",
   "nbconvert_exporter": "python",
   "pygments_lexer": "ipython3",
   "version": "3.7.3"
  }
 },
 "nbformat": 4,
 "nbformat_minor": 4
}
